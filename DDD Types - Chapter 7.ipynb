{
 "cells": [
  {
   "cell_type": "markdown",
   "metadata": {},
   "source": [
    "# Chapter 7 - Modelling Workflows as pipelines"
   ]
  },
  {
   "cell_type": "markdown",
   "metadata": {},
   "source": [
    "## Pipelines\n",
    "* We can think of a workflow simply as some sequence of substeps\n",
    "* In our book thus far we've looked at a _Place Order_ workflow, comprised of validating an order, pricing it, shipping, etc\n",
    "* A statement was made earlier in the book that business' real value is the transformations they make on inputs (data); well isn't that exactly what we're doing here?\n",
    "* Each pipe ought to be small, and do only one thing. We can then chain these together to form a larger pipeline\n",
    "    * A name for this is transformation-oriented-programming\n",
    "\n",
    "## Workflow Inputs\n",
    "* Inputs should always be domain objects (this makes sense too)\n",
    "\n",
    "### Commands as Inputs\n",
    "* At the very start of the book, we spoke about commands creating data, so what makes sense here is that our command is actually the very first input. \n",
    "* For example, instead of an `UnvalidatedOrder` being our input, perhaps the command `PlaceOrder` should be."
   ]
  },
  {
   "cell_type": "code",
   "execution_count": 14,
   "metadata": {
    "dotnet_interactive": {
     "language": "fsharp"
    },
    "polyglot_notebook": {
     "kernelName": "fsharp"
    },
    "vscode": {
     "languageId": "polyglot-notebook"
    }
   },
   "outputs": [],
   "source": [
    "// Giving it a shite name so I can use the nice name below\n",
    "type PlaceOrderData = {\n",
    "    OrderForm: Map<String, String>;\n",
    "    Timestamp: DateTime;\n",
    "    UserId: string;\n",
    "}"
   ]
  },
  {
   "cell_type": "markdown",
   "metadata": {},
   "source": [
    "### Sharing Common Structures with Generics\n",
    "* We've spoken before about structural generics\n",
    "* Why redefine shared shapes when we can lean on this"
   ]
  },
  {
   "cell_type": "code",
   "execution_count": 15,
   "metadata": {
    "dotnet_interactive": {
     "language": "fsharp"
    },
    "polyglot_notebook": {
     "kernelName": "fsharp"
    },
    "vscode": {
     "languageId": "polyglot-notebook"
    }
   },
   "outputs": [],
   "source": [
    "type Command<'T> = {\n",
    "    Data: 'T;\n",
    "    TimeStamp: DateTime;\n",
    "    UserId: string;\n",
    "}\n",
    "\n",
    "type UnvalidatedOrder =  { OrderForm: Map<string, string>; }\n",
    "\n",
    "type PlaceOrder = Command<UnvalidatedOrder>"
   ]
  },
  {
   "cell_type": "markdown",
   "metadata": {},
   "source": [
    "### Combining Commands\n",
    "* There are times where commands for a bounded context will be sent on the same input channel\n",
    "    * Let's be real this is 100% of the time\n",
    "* We need a way of encapsulating this"
   ]
  },
  {
   "cell_type": "code",
   "execution_count": 16,
   "metadata": {
    "dotnet_interactive": {
     "language": "fsharp"
    },
    "polyglot_notebook": {
     "kernelName": "fsharp"
    },
    "vscode": {
     "languageId": "polyglot-notebook"
    }
   },
   "outputs": [],
   "source": [
    "type OrderCommand = \n",
    "  | Place of PlaceOrder\n",
    "  | Change of string\n",
    "  | Cancel of string"
   ]
  },
  {
   "cell_type": "markdown",
   "metadata": {},
   "source": [
    "## Modelling an Order as a set of States\n",
    "\n",
    "* We can often feel tempted to create massive records to capture all of the possible data that a record will have\n",
    "* We ought to fight this urge, and think about what data a record might contain at any point in time\n",
    "    * I personally like to think of this as expressing the life cycle of something, via its contents\n",
    "* A huge advantage about getting granular is that we can really focus only on what matters in that particular state\n",
    "* Another advantage is easy extensibility. In the example below you'll be able to see that to add a new order type / state, there's only one place to do it"
   ]
  },
  {
   "cell_type": "code",
   "execution_count": 17,
   "metadata": {
    "dotnet_interactive": {
     "language": "fsharp"
    },
    "polyglot_notebook": {
     "kernelName": "fsharp"
    },
    "vscode": {
     "languageId": "polyglot-notebook"
    }
   },
   "outputs": [],
   "source": [
    "type ValidatedOrder = {\n",
    "    OrderId: string;\n",
    "    CustomerInfo: Map<string, string> // Using a bit of a hack hear to save redefining things\n",
    "    ShippingAddress: Map<string, string>\n",
    "}\n",
    "\n",
    "// I'll concede I *really* wish F# would let us have intersects or whatever\n",
    "type PricedOrder = {\n",
    "    OrderId: string;\n",
    "    CustomerInfo: Map<string, string>\n",
    "    ShippingAddress: Map<string, string>\n",
    "    Price: bigint // something fun like in cents\n",
    "}\n",
    "\n",
    "type Order = \n",
    "  | Validated of ValidatedOrder\n",
    "  | Priced of PricedOrder"
   ]
  },
  {
   "cell_type": "markdown",
   "metadata": {},
   "source": [
    "## State Machines\n",
    "* As a little CS refresher: _a device which can be in one of a set number of stable conditions depending on its previous condition and on the present values of its inputs._\n",
    "* We have states, and we can only transition to and from states via defined methods\n",
    "* The book has some nice examples, of shopping cards or email addresses (the latter already discussed)\n",
    "\n",
    "### Why Would we use State Machines?\n",
    "1. Each state has different behaviour\n",
    "2. All states are explicitly documented\n",
    "3. We can use state machines as a design tool to force us to think about every possible state\n",
    "\n",
    "I want to take a moment to talk about Scott's summary of edge cases.\n",
    "\n",
    "> A common cause of errors in design is that certain edge cases are not handled. [...] What should happen if we try to validate a validated email address?\n",
    "\n",
    "### Implementing State Machines in F#\n",
    "* We touched on it above, but definitely (again) don't be building gigantic record types to capture all of your data. Let the _state_ do the talking\n",
    "* We can take all of these states, and wrap them in some common type, like we did with `Order` above\n",
    "* And again, we can then implement a single handler that will do the work in consuming this common state"
   ]
  },
  {
   "cell_type": "code",
   "execution_count": 20,
   "metadata": {
    "dotnet_interactive": {
     "language": "fsharp"
    },
    "polyglot_notebook": {
     "kernelName": "fsharp"
    },
    "vscode": {
     "languageId": "polyglot-notebook"
    }
   },
   "outputs": [
    {
     "name": "stderr",
     "output_type": "stream",
     "text": [
      "Stopped due to error\n"
     ]
    },
    {
     "ename": "Error",
     "evalue": "input.fsx (4,24)-(4,28) parse error Unexpected keyword 'with' in binding. Expected incomplete structured construct at or before this point or other token.\ninput.fsx (5,14)-(5,15) typecheck error The value or constructor 'p' is not defined.",
     "output_type": "error",
     "traceback": [
      "input.fsx (4,24)-(4,28) parse error Unexpected keyword 'with' in binding. Expected incomplete structured construct at or before this point or other token.\n",
      "input.fsx (5,14)-(5,15) typecheck error The value or constructor 'p' is not defined."
     ]
    }
   ],
   "source": [
    "// A very crude state transition where a validated order becomes priced, and any priced order is already priced!\n",
    "let priceOrder order = \n",
    "    match order with\n",
    "    | Validated v -> {OrderId = v.OrderId; CustomerInfo = v.CustomerInfo; ShippingAddress = v.ShippingAddress; Price = 100 |> bigint}\n",
    "    | Priced p -> p\n"
   ]
  },
  {
   "cell_type": "markdown",
   "metadata": {},
   "source": [
    "* The code in the book for this section demonstrates actual transitions, but it's quite eas"
   ]
  }
 ],
 "metadata": {
  "language_info": {
   "name": "csharp"
  }
 },
 "nbformat": 4,
 "nbformat_minor": 2
}
