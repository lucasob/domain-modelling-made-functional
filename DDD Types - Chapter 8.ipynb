{
 "cells": [
  {
   "cell_type": "markdown",
   "metadata": {},
   "source": [
    "# Chapter 8 - Understanding Functions"
   ]
  },
  {
   "cell_type": "markdown",
   "metadata": {},
   "source": [
    "## FP = Functions, Functions, Everywhere\n",
    "* Programs are made **exclusively** by applying and composing functions\n",
    "\n",
    "## First Class Functions\n",
    "* Functions can:\n",
    "  * be passed as arguments to other functions\n",
    "  * be returned as values from other functions\n",
    "  * be assigned to variables\n",
    "  * be stored in data structures\n",
    "  * be defined as anonymous functions"
   ]
  },
  {
   "cell_type": "code",
   "execution_count": 10,
   "metadata": {
    "dotnet_interactive": {
     "language": "fsharp"
    },
    "polyglot_notebook": {
     "kernelName": "fsharp"
    },
    "vscode": {
     "languageId": "polyglot-notebook"
    }
   },
   "outputs": [
    {
     "name": "stdout",
     "output_type": "stream",
     "text": [
      "If the input is 100, the output is 103\n",
      "If the input is 100, the output is 103\n",
      "If the input is 100, the output is 10000\n"
     ]
    }
   ],
   "source": [
    "let plus3 x = x + 3\n",
    "let addThree = plus3\n",
    "let square = fun x -> x * x\n",
    "\n",
    "let listOfFunctions = [plus3; addThree; square]\n",
    "\n",
    "for fn in listOfFunctions do\n",
    "  let result = fn 100\n",
    "  printf \"If the input is 100, the output is %i\\n\" result\n",
    "\n"
   ]
  },
  {
   "cell_type": "markdown",
   "metadata": {},
   "source": [
    "### Functions as Inputs"
   ]
  },
  {
   "cell_type": "code",
   "execution_count": 11,
   "metadata": {
    "dotnet_interactive": {
     "language": "fsharp"
    },
    "polyglot_notebook": {
     "kernelName": "fsharp"
    },
    "vscode": {
     "languageId": "polyglot-notebook"
    }
   },
   "outputs": [
    {
     "data": {
      "text/html": [
       "<div class=\"dni-plaintext\"><pre>27</pre></div><style>\r\n",
       ".dni-code-hint {\r\n",
       "    font-style: italic;\r\n",
       "    overflow: hidden;\r\n",
       "    white-space: nowrap;\r\n",
       "}\r\n",
       ".dni-treeview {\r\n",
       "    white-space: nowrap;\r\n",
       "}\r\n",
       ".dni-treeview td {\r\n",
       "    vertical-align: top;\r\n",
       "    text-align: start;\r\n",
       "}\r\n",
       "details.dni-treeview {\r\n",
       "    padding-left: 1em;\r\n",
       "}\r\n",
       "table td {\r\n",
       "    text-align: start;\r\n",
       "}\r\n",
       "table tr { \r\n",
       "    vertical-align: top; \r\n",
       "    margin: 0em 0px;\r\n",
       "}\r\n",
       "table tr td pre \r\n",
       "{ \r\n",
       "    vertical-align: top !important; \r\n",
       "    margin: 0em 0px !important;\r\n",
       "} \r\n",
       "table th {\r\n",
       "    text-align: start;\r\n",
       "}\r\n",
       "</style>"
      ]
     },
     "metadata": {},
     "output_type": "display_data"
    }
   ],
   "source": [
    "let evalWith5ThenAdd2 fn = fn(5) + 2 // fn is inferred as (int -> int)\n",
    "\n",
    "evalWith5ThenAdd2 plus3\n",
    "evalWith5ThenAdd2 square"
   ]
  },
  {
   "cell_type": "markdown",
   "metadata": {},
   "source": [
    "### Functions as Outputs "
   ]
  },
  {
   "cell_type": "code",
   "execution_count": 12,
   "metadata": {
    "dotnet_interactive": {
     "language": "fsharp"
    },
    "polyglot_notebook": {
     "kernelName": "fsharp"
    },
    "vscode": {
     "languageId": "polyglot-notebook"
    }
   },
   "outputs": [
    {
     "name": "stdout",
     "output_type": "stream",
     "text": [
      "11\n",
      "12\n",
      "13\n"
     ]
    }
   ],
   "source": [
    "let addN n = fun x -> n + x\n",
    "let add1 = addN 1\n",
    "let add2 = addN 2\n",
    "let add3 = addN 3\n",
    "\n",
    "printfn \"%i\" (add1 10)\n",
    "printfn \"%i\" (add2 10)\n",
    "printfn \"%i\" (add3 10)"
   ]
  },
  {
   "cell_type": "markdown",
   "metadata": {},
   "source": [
    "### Currying and Partial Application\n",
    "* Any multiparameter function can be converted into a series of single-parameter functions\n",
    "* In F#, every function is a curried function\n",
    "* You can \"fix\" the first argument of a function, to get a function of the remaining arguments\n",
    "* Something I found interesting: [Why Roc has decided against auto-currying](https://www.roc-lang.org/faq.html#curried-functions) "
   ]
  },
  {
   "cell_type": "code",
   "execution_count": 13,
   "metadata": {
    "dotnet_interactive": {
     "language": "fsharp"
    },
    "polyglot_notebook": {
     "kernelName": "fsharp"
    },
    "vscode": {
     "languageId": "polyglot-notebook"
    }
   },
   "outputs": [
    {
     "name": "stdout",
     "output_type": "stream",
     "text": [
      "11\n",
      "Hello Victor\n",
      "Goodbye Victor\n"
     ]
    }
   ],
   "source": [
    "let add x y = x + y\n",
    "let add1 = add 1\n",
    "\n",
    "printfn \"%i\" (add1 10)\n",
    "\n",
    "let sayGreeting greeting name = printfn \"%s %s\" greeting name\n",
    "let sayHello = sayGreeting \"Hello\"\n",
    "let sayGoodbye = sayGreeting \"Goodbye\"\n",
    "\n",
    "sayHello \"Victor\"\n",
    "sayGoodbye \"Victor\""
   ]
  },
  {
   "cell_type": "markdown",
   "metadata": {},
   "source": [
    "### Total Functions\n",
    "* A total function maps each possible input to an output\n",
    "  * Examples include square, exponential, polynomial, empty function\n",
    "* In a partial function, one or more inputs aren't mapped to an output\n",
    "  * Boring example is division as division by 0 is undefined (on the Reals)\n",
    "* In codeland, total functions let us make things explicit by documenting all effects in the type signature\n",
    "\n",
    "![partial-function.png](https://www.statisticshowto.com/wp-content/uploads/2019/12/partial-function.png)\n"
   ]
  },
  {
   "cell_type": "code",
   "execution_count": 14,
   "metadata": {
    "dotnet_interactive": {
     "language": "fsharp"
    },
    "polyglot_notebook": {
     "kernelName": "fsharp"
    },
    "vscode": {
     "languageId": "polyglot-notebook"
    }
   },
   "outputs": [],
   "source": [
    "// Ignoring the incomplate pattern match, the type signature (int -> int) is a lie because we get an exception sometimes 😱\n",
    "let twelveDividedBy n \n",
    "  = match n with\n",
    "    | 6 -> 2\n",
    "    | 4 -> 3\n",
    "    | 3 -> 4\n",
    "    | 2 -> 6\n",
    "    | 1 -> 2\n",
    "    | 0 -> failwith \"Can't divide by zero\"\n",
    "\n",
    "// Option 1: restrict the input \n",
    "type NonZeroInteger = private NonZeroInteger of int // this doesn't look practical \n",
    "\n",
    "let twelveDividedByWithRestrictedInput (NonZeroInteger n) \n",
    "  = match n with\n",
    "    | 6 -> 2\n",
    "    | 4 -> 3\n",
    "    | 3 -> 4\n",
    "    | 2 -> 6\n",
    "    | 1 -> 2\n",
    "\n",
    "// Option 2: extend the output\n",
    "let twelveDividedByWithExtendedOutput n\n",
    "  = match n with\n",
    "    | 6 -> Some 2\n",
    "    | 4 -> Some 3\n",
    "    | 3 -> Some 4\n",
    "    | 2 -> Some 6\n",
    "    | 1 -> Some 2\n",
    "    | 0 -> None"
   ]
  },
  {
   "cell_type": "code",
   "execution_count": 19,
   "metadata": {
    "dotnet_interactive": {
     "language": "javascript"
    },
    "polyglot_notebook": {
     "kernelName": "javascript"
    },
    "vscode": {
     "languageId": "polyglot-notebook"
    }
   },
   "outputs": [
    {
     "ename": "Error",
     "evalue": "Module name \"node:fs/promises\" has not been loaded yet for context: _. Use require([])\nhttps://requirejs.org/docs/errors.html#notloaded",
     "output_type": "error",
     "traceback": [
      "Module name \"node:fs/promises\" has not been loaded yet for context: _. Use require([])\n",
      "https://requirejs.org/docs/errors.html#notloaded"
     ]
    }
   ],
   "source": [
    "// The perils of lying type signatures in TS\n",
    "const { open } = require('node:fs/promises');\n",
    "\n",
    "async function readFile() {\n",
    "  const handle = await open('./some/file/to/read');\n",
    "  return handle.readFile(file, 'utf-8')\n",
    "}\n",
    "// apparently readFile: Promise<Buffer> but what if the file is missing 🤔\n",
    "\n",
    "const parsedFile = readFile().then((buf) => buf.toString('utf8')).then(JSON.parse)\n",
    "// no we're dealing with Promise<any> but JSON.parse also throws"
   ]
  },
  {
   "cell_type": "markdown",
   "metadata": {},
   "source": [
    "## Composition \n",
    "\n",
    "* Combining functions by connecting the output of the first to the input of the second\n",
    "* One benefit is **information hinding** - the caller cannot tell whether a function is composed of smaller functions, nor what they operated on\n",
    "* In F#, the pipe operator `|>` can be used to compose functions as long as the output type of the first matches the input type of the second\n"
   ]
  },
  {
   "cell_type": "code",
   "execution_count": 17,
   "metadata": {
    "dotnet_interactive": {
     "language": "fsharp"
    },
    "polyglot_notebook": {
     "kernelName": "fsharp"
    },
    "vscode": {
     "languageId": "polyglot-notebook"
    }
   },
   "outputs": [
    {
     "name": "stdout",
     "output_type": "stream",
     "text": [
      "25\n"
     ]
    },
    {
     "data": {
      "text/plain": [
       "value is true"
      ]
     },
     "metadata": {},
     "output_type": "display_data"
    }
   ],
   "source": [
    "let add1 x = x + 1\n",
    "let square x = x * x\n",
    "let add1ThenSquare x = x |> add1 |> square\n",
    "printfn \"%i\" (add1ThenSquare 4)\n",
    "\n",
    "let isEven x = (x % 2) = 0\n",
    "let printBoolean x = sprintf \"value is %b\" x\n",
    "let isEvenThenPrint x = x |> isEven |> printBoolean\n",
    "isEvenThenPrint 2\n"
   ]
  },
  {
   "cell_type": "markdown",
   "metadata": {},
   "source": [
    "```clojure\n",
    ";; Our trusty thread operator\n",
    "(->>\n",
    "  (on-event component)\n",
    "  (record->event-payload-middleware component)\n",
    "  (event-markers/deduplication-middleware)\n",
    "  (record->event-href-middleware component)\n",
    "  (event-markers/record->event-marker-middleware)\n",
    "  (component->database-context-middleware component)\n",
    "  (dd-utils/span-middleware \"parallel_consumer.handle_event\")\n",
    "  (pc/consumer-record->record-middleware)\n",
    "  (pc/start configuration))\n",
    "```\n",
    "\n",
    "### Can use composition to build the entire application\n",
    "* \"Service\" = Low-level operation 1 |> Low-level operation 2 |> Low-level operation 1\n",
    "* \"Workflow\" = Serice A |> Service B\n",
    "* \"Controller/dispatcher\" input -> invoke Workflow X or Workflow Y\n",
    "\n",
    "### Challenges with composition\n",
    "* Typically with wrapper types like `Option`, `Result`, `Async`\n",
    "* Requiring us to \"adjust\" the inputs and outputs of functions so they can be composed\n",
    "* Typical approach is to use the \"simplest\" type that encompasses both\n",
    "  * e.g `functionA` outputs `int` and `functionB` takes an `Option<int>`, we can can convert the output of `functionA` to `Option<int>`\n",
    "\n"
   ]
  },
  {
   "cell_type": "code",
   "execution_count": 18,
   "metadata": {
    "dotnet_interactive": {
     "language": "fsharp"
    },
    "polyglot_notebook": {
     "kernelName": "fsharp"
    },
    "vscode": {
     "languageId": "polyglot-notebook"
    }
   },
   "outputs": [
    {
     "name": "stdout",
     "output_type": "stream",
     "text": [
      "The int is 6\n"
     ]
    }
   ],
   "source": [
    "let add1 x = x + 1\n",
    "let printOption x\n",
    "  = match x with\n",
    "    | Some i -> printfn \"The int is %i\" i\n",
    "    | None -> printfn \"No value\"\n",
    "\n",
    "5 |> add1 |> Some |> printOption"
   ]
  },
  {
   "cell_type": "markdown",
   "metadata": {},
   "source": [
    "## What's Next?\n",
    "\n",
    "Finally some implementation 🚀\n"
   ]
  }
 ],
 "metadata": {
  "language_info": {
   "name": "csharp"
  }
 },
 "nbformat": 4,
 "nbformat_minor": 2
}
