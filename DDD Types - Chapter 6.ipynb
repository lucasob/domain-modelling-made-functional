{
 "cells": [
  {
   "cell_type": "markdown",
   "metadata": {},
   "source": [
    "# Chapter 6 - Integrity and consistency in the Domain\n",
    "\n",
    "Last chapter we talked about creating types that model the domain accurately.  \n",
    "Here we want to look at constructing a boundary within which we can totally trust that all data is valid and in this way we can avoid coding defensively within this boundary.  \n",
    "In this chapter we talk about 2 aspects of a trusted domain, integrity and consistency\n",
    "## Integrity\n",
    "The piece of data follows the correct business rules  \n",
    "For example\n",
    "- A `UnitQuantity` must be between 1 and 1000.\n",
    "- An `Order` must have at least 1 `OrderLine`\n",
    "- An `Order` must have a validated shipping address before being sent to the shipping department"
   ]
  },
  {
   "cell_type": "markdown",
   "metadata": {},
   "source": [
    "## Consistency\n",
    "Different parts of the domain model must agree about facts.\n",
    "For example:\n",
    "- The total amount to bill for an order must be the total of the individual lines.\n",
    "- When an order is placed, a corresponding invoice must be created.\n",
    "- If a discount voucher is used, it must be marked as used so it can't be used again."
   ]
  },
  {
   "cell_type": "markdown",
   "metadata": {},
   "source": [
    "### Integrity for simple values\n",
    "- We saw that we should not represent simple values with primitives, but by domain focussed types such as WidgetCode or UnitQuantity.\n",
    "- In real life it's rare to have an unbounded integer or string.\n",
    "- We started by creating UnitQuantity as a wrapped int value, but we can constrain it further.\n"
   ]
  },
  {
   "cell_type": "code",
   "execution_count": 1,
   "metadata": {
    "dotnet_interactive": {
     "language": "fsharp"
    },
    "polyglot_notebook": {
     "kernelName": "fsharp"
    },
    "vscode": {
     "languageId": "polyglot-notebook"
    }
   },
   "outputs": [],
   "source": [
    "module Domain =\n",
    "    type UnitQuantity = private UnitQuantity of int\n",
    "\n",
    "    module UnitQuantity =\n",
    "        let create qty =\n",
    "            if qty < 1 then\n",
    "                Error \"UnitQuantity cannot be negative\"\n",
    "            else if qty > 1000 then\n",
    "                Error \"UnitQuantity cannot be more than 1000\"\n",
    "            else\n",
    "                Ok (UnitQuantity qty)\n",
    "\n",
    "        let value (UnitQuantity qty) = qty\n",
    "\n",
    "        let (|UnitQty|) (UnitQuantity uQty) = uQty"
   ]
  },
  {
   "cell_type": "code",
   "execution_count": 27,
   "metadata": {
    "dotnet_interactive": {
     "language": "fsharp"
    },
    "polyglot_notebook": {
     "kernelName": "fsharp"
    },
    "vscode": {
     "languageId": "polyglot-notebook"
    }
   },
   "outputs": [
    {
     "name": "stdout",
     "output_type": "stream",
     "text": [
      "100\n"
     ]
    }
   ],
   "source": [
    "open Domain\n",
    "\n",
    "let uQty = UnitQuantity.create 100\n",
    "\n",
    "let print1 = function\n",
    "    | Ok qty -> printfn \"%d\" (UnitQuantity.value qty)\n",
    "    | Error msg -> printfn \"%s\" msg\n",
    "\n",
    "let print2 = function\n",
    "    | Ok (UnitQuantity.UnitQty x) -> printfn \"%d\" x\n",
    "    | Error msg -> printfn \"%s\" msg\n",
    "\n",
    "\n",
    "uQty\n",
    "|> print2"
   ]
  },
  {
   "cell_type": "markdown",
   "metadata": {},
   "source": [
    "#### Units of measure\n",
    "- For numeric values, we can additionally document requirements with units of measure.\n",
    "- Units of measure are annotations for units of a number."
   ]
  },
  {
   "cell_type": "code",
   "execution_count": 17,
   "metadata": {
    "dotnet_interactive": {
     "language": "fsharp"
    },
    "polyglot_notebook": {
     "kernelName": "fsharp"
    },
    "vscode": {
     "languageId": "polyglot-notebook"
    }
   },
   "outputs": [],
   "source": [
    "[<Measure>]\n",
    "type kg // kilogram\n",
    "\n",
    "[<Measure>]\n",
    "type m // metre\n"
   ]
  },
  {
   "cell_type": "markdown",
   "metadata": {},
   "source": [
    "You can define units in terms of other measures too"
   ]
  },
  {
   "cell_type": "code",
   "execution_count": 18,
   "metadata": {
    "dotnet_interactive": {
     "language": "fsharp"
    },
    "polyglot_notebook": {
     "kernelName": "fsharp"
    },
    "vscode": {
     "languageId": "polyglot-notebook"
    }
   },
   "outputs": [],
   "source": [
    "[<Measure>]\n",
    "type cm // centimetre\n",
    "\n",
    "// A millilitre is the same as a cubic centimetre\n",
    "[<Measure>]\n",
    "type ml = cm^3"
   ]
  },
  {
   "cell_type": "code",
   "execution_count": 2,
   "metadata": {
    "dotnet_interactive": {
     "language": "fsharp"
    },
    "polyglot_notebook": {
     "kernelName": "fsharp"
    },
    "vscode": {
     "languageId": "polyglot-notebook"
    }
   },
   "outputs": [
    {
     "name": "stdout",
     "output_type": "stream",
     "text": [
      "1 kg\n",
      "1 units\n"
     ]
    }
   ],
   "source": [
    "open FSharp.Data.UnitSystems.SI.UnitSymbols // SI units are defined in this module\n",
    "\n",
    "type OrderQuantity =\n",
    "    | UnitQuantity of int\n",
    "    | KilogramQuantity of decimal<kg>\n",
    "\n",
    "let printQuantity = function\n",
    "    | UnitQuantity qty ->\n",
    "        printfn \"%i units\" qty\n",
    "    | KilogramQuantity kgQty ->\n",
    "        printfn \"%g kg\" kgQty\n",
    "\n",
    "printQuantity (KilogramQuantity 1.0M<kg>)\n",
    "printQuantity (UnitQuantity 1)\n",
    "\n"
   ]
  },
  {
   "cell_type": "code",
   "execution_count": 3,
   "metadata": {
    "dotnet_interactive": {
     "language": "fsharp"
    },
    "polyglot_notebook": {
     "kernelName": "fsharp"
    },
    "vscode": {
     "languageId": "polyglot-notebook"
    }
   },
   "outputs": [],
   "source": [
    "open FSharp.Data.UnitSystems.SI.UnitSymbols // SI units are defined in this module\n",
    "\n",
    "[<Measure>]\n",
    "type g\n",
    "\n",
    "// The compiler will enforce compatibility between units\n",
    "let convertg2kg (x : float<g>): float<kg> = x / 1000.0<g/kg>\n",
    "\n",
    "let fiveKilos = 5.0<kg>\n",
    "let fiveMetres = 5.0<m>\n",
    "\n",
    "// (fiveKilos = fiveMetres) |> ignore\n",
    "// type mismatch between float<kg> and float<m>\n",
    "\n",
    "// let listOfWeights = [\n",
    "//     fiveKilos\n",
    "//     fiveMetres\n",
    "// ]\n",
    "// type mismatch between float<kg> and float<m>\n",
    "\n",
    "// Units of measure can also be generic\n",
    "let genericSumUnits<[<Measure>] 'u> (x: float<'u>) (y: float<'u>) = x + y\n",
    "\n",
    "type Vector3D<[<Measure>] 'u> = {\n",
    "    x: float<'u>\n",
    "    y: float<'u>\n",
    "    z: float<'u>\n",
    "    }"
   ]
  },
  {
   "cell_type": "markdown",
   "metadata": {},
   "source": [
    "Units of measure have no overhead because they are only used by the compiler and are erased in the compiled code 🎉"
   ]
  },
  {
   "cell_type": "markdown",
   "metadata": {},
   "source": [
    "## Enforcing invariants in the type system\n",
    "- An invariant is a condition that stays true no matter what else happens.\n",
    "- A UnitQuantity must be between 1 and 1000. That is an example of an invariant.\n",
    "- Another example of an invariant is that an order must have at least one line. This is an invariant we can enforce directly in the type system."
   ]
  },
  {
   "cell_type": "code",
   "execution_count": 21,
   "metadata": {
    "dotnet_interactive": {
     "language": "fsharp"
    },
    "polyglot_notebook": {
     "kernelName": "fsharp"
    },
    "vscode": {
     "languageId": "polyglot-notebook"
    }
   },
   "outputs": [],
   "source": [
    "type NonEmptyList<'a> = {\n",
    "    First: 'a\n",
    "    Rest: 'a list\n",
    "    }\n",
    "\n",
    "module NonEmptyList =\n",
    "    let nonEmptyList = {\n",
    "        First = 1\n",
    "        Rest = [2; 3; 4]\n",
    "    }\n",
    "\n",
    "    let listWithOneElement = {\n",
    "        First = 1\n",
    "        Rest = []\n",
    "    }\n",
    "\n",
    "    let head = _.First\n",
    "    let tail = _.Rest\n",
    "    let add item list = {\n",
    "        First = item\n",
    "        Rest = list.First :: list.Rest\n",
    "    }\n",
    "\n",
    "// There is no way to create a list with no elements"
   ]
  },
  {
   "cell_type": "markdown",
   "metadata": {},
   "source": [
    "## Capturing business rules in the type system\n",
    "- If we decide some business rules should depend on whether an email address is verified or not, we can capture this in the type system."
   ]
  },
  {
   "cell_type": "code",
   "execution_count": 4,
   "metadata": {
    "dotnet_interactive": {
     "language": "fsharp"
    },
    "polyglot_notebook": {
     "kernelName": "fsharp"
    },
    "vscode": {
     "languageId": "polyglot-notebook"
    }
   },
   "outputs": [],
   "source": [
    "type EmailAddress = EmailAddress of string\n",
    "\n",
    "module Naive =\n",
    "    type CustomerEmail = {\n",
    "        EmailAddress : EmailAddress\n",
    "        IsVerified: bool\n",
    "        }\n"
   ]
  },
  {
   "cell_type": "markdown",
   "metadata": {},
   "source": [
    "- The problem with this approach is it can cause inconsistency. \n",
    "- The IsVerified flag is not necessarily dependant on whether the email is verified or not.\n",
    "- There could be a security breach if the IsVerified flag gets set to true without the email actually being verified.\n",
    "- Alternatively a developer could forget to set the flag in the verification workflow."
   ]
  },
  {
   "cell_type": "code",
   "execution_count": 23,
   "metadata": {
    "dotnet_interactive": {
     "language": "fsharp"
    },
    "polyglot_notebook": {
     "kernelName": "fsharp"
    },
    "vscode": {
     "languageId": "polyglot-notebook"
    }
   },
   "outputs": [],
   "source": [
    "module Better =\n",
    "    type CustomerEmail =\n",
    "        | Unverified of EmailAddress\n",
    "        | Verified of EmailAddress"
   ]
  },
  {
   "cell_type": "markdown",
   "metadata": {},
   "source": [
    "- This doesn't prevent us from creating a Verified case by passing in an unverified EmailAddress."
   ]
  },
  {
   "cell_type": "code",
   "execution_count": 24,
   "metadata": {
    "dotnet_interactive": {
     "language": "fsharp"
    },
    "polyglot_notebook": {
     "kernelName": "fsharp"
    },
    "vscode": {
     "languageId": "polyglot-notebook"
    }
   },
   "outputs": [],
   "source": [
    "module Best =\n",
    "    type VerifiedEmailAddress = private VerifiedEmailAddress of string\n",
    "\n",
    "    type CustomerEmail =\n",
    "        | Unverified of EmailAddress\n",
    "        | Verified of VerifiedEmailAddress\n",
    "\n",
    "    type VerifyEmailFlow = EmailAddress -> VerifiedEmailAddress\n",
    "\n",
    "    type SendPasswordResetEmail = VerifiedEmailAddress -> Async<unit>"
   ]
  },
  {
   "cell_type": "markdown",
   "metadata": {},
   "source": [
    "- In this module, we create a new type for `VerifiedEmailAddress`. We give it a private constructor so it can only be created in this module.\n",
    "- We can't create a `Verified` case without having a `VerifiedEmailAddress`, and this module controls the creation of Verified email addresses.\n",
    "- We can also now explicitly document a workflow that sends a password reset message, to which you can't pass an unverified email address."
   ]
  },
  {
   "cell_type": "markdown",
   "metadata": {},
   "source": [
    "## Consistency\n",
    "- Consistency is a business term rather than a technical one.\n",
    "- It is always context-dependent. It depends on what the business needs.\n",
    "- Consistency and atomicity of persistence are linked. We cannot ensure consistency if entities are not persisted atomically.\n",
    "### Within a single aggregate\n",
    "- We talked about aggregates and how they act as a consistency boundary last week.\n",
    "- We want the order's orderlines to add up to the total price\n",
    "- If we have some derived values, it's easier to recalculate it than to store it. (Probably depends on how expensive the computation is)\n",
    "- If we need to persist the data, we need to ensure it stays in sync.\n",
    "- If one of the lines of an order is updated, the total must be updated too to keep it consistent.\n",
    "- Only the order knows how to preserve consistency. The order is the aggregate that enforces a consistency boundary."
   ]
  },
  {
   "cell_type": "code",
   "execution_count": 25,
   "metadata": {
    "dotnet_interactive": {
     "language": "fsharp"
    },
    "polyglot_notebook": {
     "kernelName": "fsharp"
    },
    "vscode": {
     "languageId": "polyglot-notebook"
    }
   },
   "outputs": [],
   "source": [
    "module Aggregate =\n",
    "    module Order =\n",
    "        type OrderLine = {\n",
    "            Id: int\n",
    "            Price: double\n",
    "            }\n",
    "\n",
    "        type Order = private {\n",
    "            OrderLines: OrderLine list\n",
    "            AmountToBill: double\n",
    "            }\n",
    "\n",
    "        let private findOrderLine orderLineId =\n",
    "            List.find (_.Id >> ((=) orderLineId))\n",
    "\n",
    "        let private replaceOrderLine orderLines orderLineId newOrderLine =\n",
    "            orderLines |> List.map (fun x -> if x.Id = orderLineId then newOrderLine else x)\n",
    "\n",
    "        let empty = {\n",
    "            OrderLines = List.empty\n",
    "            AmountToBill = 0\n",
    "            }\n",
    "\n",
    "        let addOrderLine order orderLine =\n",
    "            let newOrderLines = orderLine :: order.OrderLines\n",
    "            let newAmountToBill = newOrderLines |> List.sumBy _.Price\n",
    "            let newOrder = {\n",
    "                order with\n",
    "                    OrderLines = newOrderLines\n",
    "                    AmountToBill = newAmountToBill\n",
    "                }\n",
    "            newOrder\n",
    "\n",
    "        let changeOrderLinePrice order orderLineId newPrice =\n",
    "            let orderLine = order.OrderLines |> findOrderLine orderLineId\n",
    "            let newOrderLine = { orderLine with Price = newPrice }\n",
    "            let newOrderLines =\n",
    "                replaceOrderLine order.OrderLines orderLineId newOrderLine\n",
    "            let newAmountToBill = newOrderLines |> List.sumBy _.Price\n",
    "            let newOrder = {\n",
    "                order with\n",
    "                    OrderLines = newOrderLines\n",
    "                    AmountToBill = newAmountToBill\n",
    "                }\n",
    "\n",
    "            newOrder"
   ]
  },
  {
   "cell_type": "code",
   "execution_count": 26,
   "metadata": {
    "dotnet_interactive": {
     "language": "fsharp"
    },
    "polyglot_notebook": {
     "kernelName": "fsharp"
    },
    "vscode": {
     "languageId": "polyglot-notebook"
    }
   },
   "outputs": [
    {
     "name": "stdout",
     "output_type": "stream",
     "text": [
      "{ OrderLines = [{ Id = 0\n",
      "                  Price = 2.0 }]\n",
      "  AmountToBill = 2.0 }\n",
      "{ OrderLines = [{ Id = 0\n",
      "                  Price = 3.0 }]\n",
      "  AmountToBill = 3.0 }\n"
     ]
    }
   ],
   "source": [
    "open Aggregate\n",
    "\n",
    "let order1 = Order.addOrderLine Order.empty {Id = 0; Price = 2.}\n",
    "let order2 = Order.changeOrderLinePrice order1 0 3.\n",
    "printfn \"%A\" order1\n",
    "printfn \"%A\" order2"
   ]
  },
  {
   "cell_type": "markdown",
   "metadata": {},
   "source": [
    "### Between different contexts\n",
    "- When the order is placed, a corresponding invoice must be created.\n",
    "- Invoicing is part of the billing domain. We can't manipulate the objects of another domain because we need to keep the contexts isolated and decoupled\n",
    "- We need to use the billing context's public API\n",
    "- There are ways to synchronize updates between contexts, but we usually don't need to do that. We can just send an async message to the context an continue\n",
    "- What happens if no invoice is created?\n",
    "\t- Do nothing. The customer gets free stuff and the business has to write off the cost.\n",
    "\t- Detect that the message was lost and resend it with a reconciliation process\n",
    "\t- Create a compensating action that undoes the previous action. In this case, cancel the order, but more realistically it would be used to correct mistakes in an order or issue a refund.\n",
    "- In all cases there is no need for rigid coorditation.\n",
    "- If we require consistency, we need to implement the second or third option, but the information won't be consistent immediately. These types of systems are 'eventually consistent'.\n",
    "- Eventual consistency is not optional consistency. It's important that the system is consistent at some point in the future."
   ]
  },
  {
   "cell_type": "markdown",
   "metadata": {},
   "source": [
    "### Between aggregates in the same context\n",
    "- If 2 aggregates need to be consistent with each other, should we update them together in the same transaction, or separately with eventual consistency?\n",
    "- It depends\n",
    "- A useful guideline is 'only update one aggregate per transaction'.\n",
    "- If more than 1 aggregate is involved, we should use messages and eventual consistency.\n",
    "- Some times if the workflow is considered by the business to be a single transaction, you can update entities in the same transaction\n",
    "- For example when transferring money between accounts, where 1 account increases and the other decreases.\n",
    "- If the accounts are represented by an account aggregate, they should be updated in the same transaction to maintain consistency.\n",
    "- In this case, it might be a clue that you can refactor.\n",
    "- The transaction often has it's own identity, so it could be an entity of its own."
   ]
  },
  {
   "cell_type": "markdown",
   "metadata": {},
   "source": [
    "### Multiple aggregates acting on the same data\n",
    "- Account aggregate and MoneyTransfer aggregate might both act on account balance, both needing to ensure it doesn't become negative\n",
    "- Constraints can be shared if they are modelled using types.\n",
    "- The balance could be modelled with a NonNegativeMoney type"
   ]
  }
 ],
 "metadata": {
  "kernelspec": {
   "display_name": ".NET (C#)",
   "language": "C#",
   "name": ".net-csharp"
  },
  "language_info": {
   "name": "python"
  },
  "polyglot_notebook": {
   "kernelInfo": {
    "defaultKernelName": "csharp",
    "items": [
     {
      "aliases": [],
      "name": "csharp"
     }
    ]
   }
  }
 },
 "nbformat": 4,
 "nbformat_minor": 2
}
