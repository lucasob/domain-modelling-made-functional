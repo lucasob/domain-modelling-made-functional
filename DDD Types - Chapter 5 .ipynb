{
 "cells": [
  {
   "cell_type": "markdown",
   "metadata": {
    "dotnet_interactive": {
     "language": "csharp"
    },
    "polyglot_notebook": {
     "kernelName": "csharp"
    }
   },
   "source": [
    "# Chapter 5-Domain Modelling with Types\n",
    "\n",
    "Now I now we've just done a load of types. But we're gonna be doing more.\n",
    "\n",
    "The idea of this chapter is what if we could use soruce code as documentation? Sounds great in theory, but bad in practice? Types can do that! (the book is very optimistic!)"
   ]
  },
  {
   "cell_type": "markdown",
   "metadata": {
    "dotnet_interactive": {
     "language": "csharp"
    },
    "polyglot_notebook": {
     "kernelName": "csharp"
    }
   },
   "source": [
    "### Simple Values\n",
    "\n",
    "So when making a domain model we want to break down structures and entities into building blocks. We'll start with simple values.\n",
    "Here's a basic example of a simple entity:"
   ]
  },
  {
   "cell_type": "code",
   "execution_count": 2,
   "metadata": {
    "dotnet_interactive": {
     "language": "csharp"
    },
    "polyglot_notebook": {
     "kernelName": "csharp"
    },
    "vscode": {
     "languageId": "polyglot-notebook"
    }
   },
   "outputs": [
    {
     "ename": "Error",
     "evalue": "(1,30): error CS1002: ; expected\n(1,33): error CS1002: ; expected\n(1,36): error CS1519: Invalid token '' in class, record, struct, or interface member declaration",
     "output_type": "error",
     "traceback": [
      "(1,30): error CS1002: ; expected\n",
      "(1,33): error CS1002: ; expected\n",
      "(1,36): error CS1519: Invalid token '' in class, record, struct, or interface member declaration"
     ]
    }
   ],
   "source": [
    "type CustomerId = CustomerId of int"
   ]
  },
  {
   "cell_type": "code",
   "execution_count": 3,
   "metadata": {
    "dotnet_interactive": {
     "language": "csharp"
    },
    "polyglot_notebook": {
     "kernelName": "csharp"
    },
    "vscode": {
     "languageId": "polyglot-notebook"
    }
   },
   "outputs": [
    {
     "ename": "Error",
     "evalue": "(2,30): error CS1002: ; expected\n(2,33): error CS1002: ; expected\n(5,5): error CS1002: ; expected\n(5,29): error CS1002: ; expected\n(5,31): error CS1002: ; expected\n(8,24): error CS1002: ; expected\n(8,27): error CS1002: ; expected\n(9,5): error CS1002: ; expected\n(9,23): error CS1002: ; expected\n(9,25): error CS1002: ; expected\n(11,9): error CS1002: ; expected",
     "output_type": "error",
     "traceback": [
      "(2,30): error CS1002: ; expected\n",
      "(2,33): error CS1002: ; expected\n",
      "(5,5): error CS1002: ; expected\n",
      "(5,29): error CS1002: ; expected\n",
      "(5,31): error CS1002: ; expected\n",
      "(8,24): error CS1002: ; expected\n",
      "(8,27): error CS1002: ; expected\n",
      "(9,5): error CS1002: ; expected\n",
      "(9,23): error CS1002: ; expected\n",
      "(9,25): error CS1002: ; expected\n",
      "(11,9): error CS1002: ; expected"
     ]
    }
   ],
   "source": [
    "//We'limitedHashl create the type:\n",
    "type CustomerId = CustomerId of int\n",
    "\n",
    "//Then use it as a constructor:\n",
    "let customerId = CustomerId 42\n",
    "\n",
    "//These wrapper types are very useful as we can use them to compare equality:\n",
    "type OrderId = OrderId of int\n",
    "let orderId = OrderId 42\n",
    "\n",
    "printfn \"%b\" (orderId = customerId)"
   ]
  },
  {
   "cell_type": "markdown",
   "metadata": {},
   "source": [
    "Very nice! We can keep simple values seperate even if they're the same primative value! \n",
    "This works for function definitions as well, so wrappers are very useful to keep things organised.\n",
    "\n",
    "Most of the time, we want simple values to be bound by some constraints. We can do that! But it's in the next chapter.\n",
    "\n",
    "#### A note on performance:\n",
    "Most of the time this isn't an issue but we use big sets of data. Rather than defining a collection of wrappers, define a collecction with a wrapper:\n",
    "- type ListOfThings = ListOfThings of int[]"
   ]
  },
  {
   "cell_type": "markdown",
   "metadata": {},
   "source": [
    "## Complex Data\n",
    "\n",
    "So simple values are funa nd all, but usually we want to use more complex models. For instance, something close to my heart, we would liek a CoP record or something made up of simple and complex values. This is very easy though! Say we wanted to map out a basic order structure:"
   ]
  },
  {
   "cell_type": "code",
   "execution_count": 4,
   "metadata": {
    "dotnet_interactive": {
     "language": "csharp"
    },
    "polyglot_notebook": {
     "kernelName": "csharp"
    },
    "vscode": {
     "languageId": "polyglot-notebook"
    }
   },
   "outputs": [
    {
     "ename": "Error",
     "evalue": "(2,18): error CS1003: Syntax error, ',' expected\n(2,20): error CS1003: Syntax error, ',' expected\n(2,32): error CS1003: Syntax error, ',' expected\n(3,21): error CS1003: Syntax error, ',' expected\n(3,23): error CS1003: Syntax error, ',' expected\n(3,38): error CS1003: Syntax error, ',' expected\n(4,20): error CS1003: Syntax error, ',' expected\n(4,22): error CS1003: Syntax error, ',' expected\n(4,36): error CS1003: Syntax error, ',' expected\n(5,16): error CS1003: Syntax error, ',' expected\n(5,18): error CS1003: Syntax error, ',' expected\n(5,28): error CS1003: Syntax error, ',' expected\n(5,32): error CS1003: Syntax error, ',' expected\n(6,19): error CS1003: Syntax error, ',' expected\n(6,21): error CS1003: Syntax error, ',' expected\n(7,2): error CS1002: ; expected",
     "output_type": "error",
     "traceback": [
      "(2,18): error CS1003: Syntax error, ',' expected\n",
      "(2,20): error CS1003: Syntax error, ',' expected\n",
      "(2,32): error CS1003: Syntax error, ',' expected\n",
      "(3,21): error CS1003: Syntax error, ',' expected\n",
      "(3,23): error CS1003: Syntax error, ',' expected\n",
      "(3,38): error CS1003: Syntax error, ',' expected\n",
      "(4,20): error CS1003: Syntax error, ',' expected\n",
      "(4,22): error CS1003: Syntax error, ',' expected\n",
      "(4,36): error CS1003: Syntax error, ',' expected\n",
      "(5,16): error CS1003: Syntax error, ',' expected\n",
      "(5,18): error CS1003: Syntax error, ',' expected\n",
      "(5,28): error CS1003: Syntax error, ',' expected\n",
      "(5,32): error CS1003: Syntax error, ',' expected\n",
      "(6,19): error CS1003: Syntax error, ',' expected\n",
      "(6,21): error CS1003: Syntax error, ',' expected\n",
      "(7,2): error CS1002: ; expected"
     ]
    }
   ],
   "source": [
    "type Order = {\n",
    "    CustomerInfo : CustomerInfo\n",
    "    ShippingAddress : ShippingAddress\n",
    "    BillingAddress : BillingAddress \n",
    "    OrderLines : OrderLine list\n",
    "    OrderQuantity : OrderQuantity\n",
    "}\n",
    "//This is essentially the equivalent of saying Order = customerInfo AND ShippingAddress AND BillingAddress AND ..."
   ]
  },
  {
   "cell_type": "markdown",
   "metadata": {},
   "source": [
    "There's still a bit of work to do here though- none of these types have been defined yet, and these should be defined early on when modelling a domain. If we did want to use temporary values though, we can define an undefined type: \n",
    "- type Undefined = exn\n",
    "\n",
    "This is actually just creating an alias for the F# exception type, which is great because if we try and actually use Undefined we'll get an error which (hopefully) reminds us to actually assign a type."
   ]
  },
  {
   "cell_type": "markdown",
   "metadata": {},
   "source": [
    "### Choice Types\n",
    "Let's take a closer look at OrderQuantity. Depending on the type of order, we may want to use weight or the amount of objects (e.g. 5 books, 150g flour, etc.) but we don't really want to change the type OrderQuantity because that still makes sense. We can use choice types! Lucas covered this a lot last time but here's an example:"
   ]
  },
  {
   "cell_type": "code",
   "execution_count": 5,
   "metadata": {
    "dotnet_interactive": {
     "language": "csharp"
    },
    "polyglot_notebook": {
     "kernelName": "csharp"
    },
    "vscode": {
     "languageId": "polyglot-notebook"
    }
   },
   "outputs": [
    {
     "ename": "Error",
     "evalue": "(1,34): error CS1002: ; expected\n(1,37): error CS1002: ; expected\n(2,6): error CS1002: ; expected\n(2,42): error CS1002: ; expected\n(2,45): error CS1002: ; expected\n(4,6): error CS1002: ; expected\n(4,21): error CS1525: Invalid expression term '|'\n(5,12): error CS1002: ; expected\n(5,27): error CS1002: ; expected\n(5,27): error CS1525: Invalid expression term '|'\n(6,16): error CS1002: ; expected\n(6,35): error CS1002: ; expected",
     "output_type": "error",
     "traceback": [
      "(1,34): error CS1002: ; expected\n",
      "(1,37): error CS1002: ; expected\n",
      "(2,6): error CS1002: ; expected\n",
      "(2,42): error CS1002: ; expected\n",
      "(2,45): error CS1002: ; expected\n",
      "(4,6): error CS1002: ; expected\n",
      "(4,21): error CS1525: Invalid expression term '|'\n",
      "(5,12): error CS1002: ; expected\n",
      "(5,27): error CS1002: ; expected\n",
      "(5,27): error CS1525: Invalid expression term '|'\n",
      "(6,16): error CS1002: ; expected\n",
      "(6,35): error CS1002: ; expected"
     ]
    }
   ],
   "source": [
    "type UnitQuantity = UnitQuantity of int\n",
    "type KilogramQuantity = KilogramQuantity of double\n",
    "\n",
    "type OrderQuantity =\n",
    "    | Unit of UnitQuantity\n",
    "    | Kilogram of KilogramQuantity\n",
    "\n",
    "//Very nice indeed"
   ]
  },
  {
   "cell_type": "markdown",
   "metadata": {
    "vscode": {
     "languageId": "polyglot-notebook"
    }
   },
   "source": [
    "### Workflows as Functions\n",
    "Now we've defined structures, we want to do stuff with them. For this we we will obviosuly use functions.\n",
    "\n",
    "So. In F# the functions we use only take one input and one output (sort of- we can use parameters in the input but we'll come back to that). But often we want to have multiple _possible_ outputs to a function- how do we do that?\n",
    "Rather simply, create an output type:"
   ]
  },
  {
   "cell_type": "code",
   "execution_count": 6,
   "metadata": {
    "dotnet_interactive": {
     "language": "csharp"
    },
    "polyglot_notebook": {
     "kernelName": "csharp"
    },
    "vscode": {
     "languageId": "polyglot-notebook"
    }
   },
   "outputs": [
    {
     "ename": "Error",
     "evalue": "(2,42): error CS1002: ; expected\n(2,45): error CS1002: ; expected\n(4,6): error CS1002: ; expected\n(4,28): error CS1002: ; expected\n(4,31): error CS1002: ; expected\n(5,6): error CS1002: ; expected\n(5,28): error CS1002: ; expected\n(5,31): error CS1002: ; expected\n(7,6): error CS1002: ; expected\n(7,23): error CS1525: Invalid expression term '|'\n(8,13): error CS1002: ; expected\n(8,25): error CS1002: ; expected\n(8,25): error CS1525: Invalid expression term '|'\n(9,13): error CS1002: ; expected\n(9,25): error CS1002: ; expected\n(12,65): error CS1002: ; expected",
     "output_type": "error",
     "traceback": [
      "(2,42): error CS1002: ; expected\n",
      "(2,45): error CS1002: ; expected\n",
      "(4,6): error CS1002: ; expected\n",
      "(4,28): error CS1002: ; expected\n",
      "(4,31): error CS1002: ; expected\n",
      "(5,6): error CS1002: ; expected\n",
      "(5,28): error CS1002: ; expected\n",
      "(5,31): error CS1002: ; expected\n",
      "(7,6): error CS1002: ; expected\n",
      "(7,23): error CS1525: Invalid expression term '|'\n",
      "(8,13): error CS1002: ; expected\n",
      "(8,25): error CS1002: ; expected\n",
      "(8,25): error CS1525: Invalid expression term '|'\n",
      "(9,13): error CS1002: ; expected\n",
      "(9,25): error CS1002: ; expected\n",
      "(12,65): error CS1002: ; expected"
     ]
    }
   ],
   "source": [
    "//Let's assume we want to open an evelope that can be either an order or a quote and catagorize the contents, i.e. we want to take an EnvelopeContents type:\n",
    "type EnvelopeContents = EnvelopeContents of string\n",
    "\n",
    "type QuoteForm = QuoteForm of string\n",
    "type OrderForm = OrderForm of string\n",
    "//And convert it to a categorized form. This form can be different depending on the contents of the evelope, so we have to define our CategorizedMail type differently:\n",
    "type CategorizedMail = \n",
    "    | Quote of QuoteForm\n",
    "    | Order of OrderForm\n",
    "\n",
    "//Then we can define the function type like so:\n",
    "type CategorizeInboundMail = EnvelopeContents -> CategorizedMail"
   ]
  },
  {
   "cell_type": "markdown",
   "metadata": {
    "vscode": {
     "languageId": "polyglot-notebook"
    }
   },
   "source": [
    "Thus we can use CategoriseInboundMail and know which types will be converted to what. It's pretty cool!\n",
    "\n",
    "We can do the same sort of thing for inputs as well- say we had a function CalculatePrices that takes in an OrderForm and a PriceCatalogue. We _could_ define the input type like so:"
   ]
  },
  {
   "cell_type": "code",
   "execution_count": 7,
   "metadata": {
    "dotnet_interactive": {
     "language": "csharp"
    },
    "polyglot_notebook": {
     "kernelName": "csharp"
    },
    "vscode": {
     "languageId": "polyglot-notebook"
    }
   },
   "outputs": [
    {
     "ename": "Error",
     "evalue": "(2,15): error CS1003: Syntax error, ',' expected\n(2,17): error CS1003: Syntax error, ',' expected\n(2,26): error CS1003: Syntax error, ',' expected\n(3,20): error CS1003: Syntax error, ',' expected\n(3,22): error CS1003: Syntax error, ',' expected\n(4,2): error CS1002: ; expected\n(7,52): error CS1002: ; expected",
     "output_type": "error",
     "traceback": [
      "(2,15): error CS1003: Syntax error, ',' expected\n",
      "(2,17): error CS1003: Syntax error, ',' expected\n",
      "(2,26): error CS1003: Syntax error, ',' expected\n",
      "(3,20): error CS1003: Syntax error, ',' expected\n",
      "(3,22): error CS1003: Syntax error, ',' expected\n",
      "(4,2): error CS1002: ; expected\n",
      "(7,52): error CS1002: ; expected"
     ]
    }
   ],
   "source": [
    "type CalculatePriceInput = {\n",
    "    OrderForm : OrderForm\n",
    "    PriceCatalogue : PriceCatalogue\n",
    "}\n",
    "\n",
    "//This means the function type definition would look like this:\n",
    "type CalculatePrices = CalculatePriceInput -> Price"
   ]
  },
  {
   "cell_type": "markdown",
   "metadata": {
    "vscode": {
     "languageId": "polyglot-notebook"
    }
   },
   "source": [
    "HOWEVER. This might not be the best approach. If the inputs are more dependencies than real inputs (like PriceCatalogue in the previous example) we probably just want to use it as a seperate parameter. Thus the function definition looks more like this:"
   ]
  },
  {
   "cell_type": "code",
   "execution_count": 8,
   "metadata": {
    "dotnet_interactive": {
     "language": "csharp"
    },
    "polyglot_notebook": {
     "kernelName": "csharp"
    },
    "vscode": {
     "languageId": "polyglot-notebook"
    }
   },
   "outputs": [
    {
     "ename": "Error",
     "evalue": "(1,60): error CS1002: ; expected",
     "output_type": "error",
     "traceback": [
      "(1,60): error CS1002: ; expected"
     ]
    }
   ],
   "source": [
    "type CalculatePrices = OrderForm -> PriceCatalogue -> Price"
   ]
  },
  {
   "cell_type": "markdown",
   "metadata": {
    "vscode": {
     "languageId": "polyglot-notebook"
    }
   },
   "source": [
    "I personally prefer the input structure way of doing things but this isn't really about preference- if the parameters are all strongly connected and always required, it's best to put them in a structure. Otherwise, parameters!\n",
    "\n",
    "\n",
    "This is a touch theoretical however. In reality, we're probably going to get errors and want to know what errors and where we are going to get them. We can use the Result type for this that was covered in the previous chapter:\n",
    "- Result<Price, PriceError list>\n",
    "\n",
    "Very simple, we simply define the type and the error we expect within the <>"
   ]
  },
  {
   "cell_type": "markdown",
   "metadata": {},
   "source": [
    "### Identity- Who Am I?\n",
    "\n",
    "When dealing with data types and structures, often we want to be able to identify them. If we need a special ID to do this (i.e. the instance of the strcutre is unique) this is called an **entity**. Otherwise it's just a **value object**.\n",
    "\n",
    "Value objects are easy enough to deal with- when equating them to other value objects, they are considered equal if all fields match (int he case of a choice value, it has to have the same choice case). For those of you who are on the ball, you'll know this is **structural equality**.\n",
    "\n",
    "Entities are slightly trickier, but not much. For these we need an Id field of some kind:"
   ]
  },
  {
   "cell_type": "code",
   "execution_count": 9,
   "metadata": {
    "dotnet_interactive": {
     "language": "csharp"
    },
    "polyglot_notebook": {
     "kernelName": "csharp"
    },
    "vscode": {
     "languageId": "polyglot-notebook"
    }
   },
   "outputs": [
    {
     "ename": "Error",
     "evalue": "(2,15): error CS1003: Syntax error, ',' expected\n(2,17): error CS1003: Syntax error, ',' expected\n(2,26): error CS1003: Syntax error, ',' expected\n(3,17): error CS1003: Syntax error, ',' expected\n(3,19): error CS1003: Syntax error, ',' expected\n(3,30): error CS1003: Syntax error, ',' expected\n(4,18): error CS1003: Syntax error, ',' expected\n(4,20): error CS1003: Syntax error, ',' expected\n(5,2): error CS1002: ; expected",
     "output_type": "error",
     "traceback": [
      "(2,15): error CS1003: Syntax error, ',' expected\n",
      "(2,17): error CS1003: Syntax error, ',' expected\n",
      "(2,26): error CS1003: Syntax error, ',' expected\n",
      "(3,17): error CS1003: Syntax error, ',' expected\n",
      "(3,19): error CS1003: Syntax error, ',' expected\n",
      "(3,30): error CS1003: Syntax error, ',' expected\n",
      "(4,18): error CS1003: Syntax error, ',' expected\n",
      "(4,20): error CS1003: Syntax error, ',' expected\n",
      "(5,2): error CS1002: ; expected"
     ]
    }
   ],
   "source": [
    "type Contact = {\n",
    "    ContactId : ContactId\n",
    "    PhoneNumber : PhoneNumber\n",
    "    EmailAddress : EmailAddress\n",
    "}"
   ]
  },
  {
   "cell_type": "markdown",
   "metadata": {
    "vscode": {
     "languageId": "polyglot-notebook"
    }
   },
   "source": [
    "Very simple, but what if we have a choice field? Do we put the id on the top level or within each choice? Well, there's an easy answer to that- it's usally best to put it in the choice. Let me show you what I mean:"
   ]
  },
  {
   "cell_type": "code",
   "execution_count": 10,
   "metadata": {
    "dotnet_interactive": {
     "language": "csharp"
    },
    "polyglot_notebook": {
     "kernelName": "csharp"
    },
    "vscode": {
     "languageId": "polyglot-notebook"
    }
   },
   "outputs": [
    {
     "ename": "Error",
     "evalue": "(2,8): error CS1003: Syntax error, ',' expected\n(2,10): error CS1003: Syntax error, ',' expected\n(2,12): error CS1003: Syntax error, ',' expected\n(3,11): error CS1003: Syntax error, ',' expected\n(3,13): error CS1003: Syntax error, ',' expected\n(4,6): error CS1002: ; expected\n(6,8): error CS1003: Syntax error, ',' expected\n(6,10): error CS1003: Syntax error, ',' expected\n(6,12): error CS1003: Syntax error, ',' expected\n(7,11): error CS1003: Syntax error, ',' expected\n(7,13): error CS1003: Syntax error, ',' expected\n(8,6): error CS1002: ; expected\n(10,13): error CS1525: Invalid expression term '|'\n(11,15): error CS1002: ; expected\n(11,25): error CS1002: ; expected\n(11,25): error CS1525: Invalid expression term '|'\n(12,15): error CS1002: ; expected\n(12,25): error CS1002: ; expected",
     "output_type": "error",
     "traceback": [
      "(2,8): error CS1003: Syntax error, ',' expected\n",
      "(2,10): error CS1003: Syntax error, ',' expected\n",
      "(2,12): error CS1003: Syntax error, ',' expected\n",
      "(3,11): error CS1003: Syntax error, ',' expected\n",
      "(3,13): error CS1003: Syntax error, ',' expected\n",
      "(4,6): error CS1002: ; expected\n",
      "(6,8): error CS1003: Syntax error, ',' expected\n",
      "(6,10): error CS1003: Syntax error, ',' expected\n",
      "(6,12): error CS1003: Syntax error, ',' expected\n",
      "(7,11): error CS1003: Syntax error, ',' expected\n",
      "(7,13): error CS1003: Syntax error, ',' expected\n",
      "(8,6): error CS1002: ; expected\n",
      "(10,13): error CS1525: Invalid expression term '|'\n",
      "(11,15): error CS1002: ; expected\n",
      "(11,25): error CS1002: ; expected\n",
      "(11,25): error CS1525: Invalid expression term '|'\n",
      "(12,15): error CS1002: ; expected\n",
      "(12,25): error CS1002: ; expected"
     ]
    }
   ],
   "source": [
    "type Choice1 = {\n",
    "    id : id\n",
    "    value : value\n",
    "    }\n",
    "type Choice2 = {\n",
    "    id : id\n",
    "    value : value\n",
    "    }\n",
    "\n",
    "type Which = \n",
    "    | Choice1 of Choice1\n",
    "    | Choice2 of Choice2\n"
   ]
  },
  {
   "cell_type": "markdown",
   "metadata": {},
   "source": [
    "This is basically because Which is a wrapper for Choice1 and Choice2, so we'd like to keep track of the actual entities rather than the wrapper."
   ]
  },
  {
   "cell_type": "markdown",
   "metadata": {},
   "source": [
    "#### Not Everything is Equal\n"
   ]
  },
  {
   "cell_type": "markdown",
   "metadata": {},
   "source": [
    "The problem now is that despite us giving our entities ids, they still aren't equal, as we are still relying on structural equality."
   ]
  },
  {
   "cell_type": "code",
   "execution_count": 11,
   "metadata": {
    "dotnet_interactive": {
     "language": "csharp"
    },
    "polyglot_notebook": {
     "kernelName": "csharp"
    },
    "vscode": {
     "languageId": "polyglot-notebook"
    }
   },
   "outputs": [
    {
     "ename": "Error",
     "evalue": "(1,28): error CS1002: ; expected\n(1,31): error CS1002: ; expected\n(2,6): error CS1002: ; expected\n(2,32): error CS1002: ; expected\n(2,35): error CS1002: ; expected\n(3,6): error CS1002: ; expected\n(3,34): error CS1002: ; expected\n(3,37): error CS1002: ; expected\n(5,6): error CS1002: ; expected\n(5,16): error CS1525: Invalid expression term '{'\n(5,16): error CS1002: ; expected\n(7,17): error CS1002: ; expected\n(7,17): error CS1513: } expected\n(8,18): error CS1002: ; expected\n(8,18): error CS1513: } expected\n(8,32): error CS1002: ; expected\n(14,27): error CS1002: ; expected\n(14,28): error CS1002: ; expected\n(16,26): error CS1003: Syntax error, ',' expected\n(17,31): error CS1003: Syntax error, ',' expected\n(17,32): error CS1003: Syntax error, ',' expected\n(18,33): error CS1003: Syntax error, ',' expected\n(19,6): error CS1002: ; expected\n(22,26): error CS1003: Syntax error, ',' expected\n(23,31): error CS1003: Syntax error, ',' expected\n(23,32): error CS1003: Syntax error, ',' expected\n(24,33): error CS1003: Syntax error, ',' expected\n(25,6): error CS1002: ; expected\n(27,9): error CS1002: ; expected",
     "output_type": "error",
     "traceback": [
      "(1,28): error CS1002: ; expected\n",
      "(1,31): error CS1002: ; expected\n",
      "(2,6): error CS1002: ; expected\n",
      "(2,32): error CS1002: ; expected\n",
      "(2,35): error CS1002: ; expected\n",
      "(3,6): error CS1002: ; expected\n",
      "(3,34): error CS1002: ; expected\n",
      "(3,37): error CS1002: ; expected\n",
      "(5,6): error CS1002: ; expected\n",
      "(5,16): error CS1525: Invalid expression term '{'\n",
      "(5,16): error CS1002: ; expected\n",
      "(7,17): error CS1002: ; expected\n",
      "(7,17): error CS1513: } expected\n",
      "(8,18): error CS1002: ; expected\n",
      "(8,18): error CS1513: } expected\n",
      "(8,32): error CS1002: ; expected\n",
      "(14,27): error CS1002: ; expected\n",
      "(14,28): error CS1002: ; expected\n",
      "(16,26): error CS1003: Syntax error, ',' expected\n",
      "(17,31): error CS1003: Syntax error, ',' expected\n",
      "(17,32): error CS1003: Syntax error, ',' expected\n",
      "(18,33): error CS1003: Syntax error, ',' expected\n",
      "(19,6): error CS1002: ; expected\n",
      "(22,26): error CS1003: Syntax error, ',' expected\n",
      "(23,31): error CS1003: Syntax error, ',' expected\n",
      "(23,32): error CS1003: Syntax error, ',' expected\n",
      "(24,33): error CS1003: Syntax error, ',' expected\n",
      "(25,6): error CS1002: ; expected\n",
      "(27,9): error CS1002: ; expected"
     ]
    }
   ],
   "source": [
    "type ContactId = ContactId of int\n",
    "type PhoneNumber = PhoneNumber of int\n",
    "type EmailAddress = EmailAddress of string\n",
    "\n",
    "type Contact = {\n",
    "    ContactId : ContactId\n",
    "    PhoneNumber : PhoneNumber\n",
    "    EmailAddress : EmailAddress\n",
    "    }\n",
    "\n",
    "//This is admittedly Object Oriented code but it's just to show off overriding \n",
    "\n",
    "//So let's define a couple of contacts:\n",
    "let contactId = ContactId 1\n",
    "let contact1 = {\n",
    "    ContactId = contactId\n",
    "    PhoneNumber = PhoneNumber 1\n",
    "    EmailAddress = EmailAddress \"email\"\n",
    "    }\n",
    "\n",
    "let contact2 = {\n",
    "    ContactId = contactId\n",
    "    PhoneNumber = PhoneNumber 2\n",
    "    EmailAddress = EmailAddress \"email2\"\n",
    "    }\n",
    "\n",
    "printfn \"%b\" (contact1 = contact2)"
   ]
  },
  {
   "cell_type": "markdown",
   "metadata": {
    "vscode": {
     "languageId": "polyglot-notebook"
    }
   },
   "source": [
    "To combat that, we have to overwrite some stuff (specifically equals and hashcode):"
   ]
  },
  {
   "cell_type": "code",
   "execution_count": 12,
   "metadata": {
    "dotnet_interactive": {
     "language": "csharp"
    },
    "polyglot_notebook": {
     "kernelName": "csharp"
    },
    "vscode": {
     "languageId": "polyglot-notebook"
    }
   },
   "outputs": [
    {
     "ename": "Error",
     "evalue": "(1,2): error CS1001: Identifier expected\n(1,2): error CS1003: Syntax error, ',' expected\n(1,3): error CS1003: Syntax error, ',' expected\n(1,17): error CS1003: Syntax error, ',' expected\n(1,19): error CS1003: Syntax error, ',' expected\n(1,31): error CS1003: Syntax error, ',' expected\n(3,15): error CS1003: Syntax error, ',' expected\n(3,17): error CS1003: Syntax error, ',' expected\n(3,26): error CS1003: Syntax error, ',' expected\n(4,17): error CS1003: Syntax error, ',' expected\n(4,19): error CS1003: Syntax error, ',' expected\n(4,30): error CS1003: Syntax error, ',' expected\n(5,18): error CS1003: Syntax error, ',' expected\n(5,20): error CS1003: Syntax error, ',' expected\n(6,6): error CS1003: Syntax error, ',' expected\n(22,40): error CS1002: ; expected\n(23,5): error CS7017: Member definition, statement, or end-of-file expected\n(26,26): error CS1003: Syntax error, ',' expected\n(27,31): error CS1003: Syntax error, ',' expected\n(27,32): error CS1003: Syntax error, ',' expected\n(28,33): error CS1003: Syntax error, ',' expected\n(29,6): error CS1002: ; expected\n(31,9): error CS1002: ; expected",
     "output_type": "error",
     "traceback": [
      "(1,2): error CS1001: Identifier expected\n",
      "(1,2): error CS1003: Syntax error, ',' expected\n",
      "(1,3): error CS1003: Syntax error, ',' expected\n",
      "(1,17): error CS1003: Syntax error, ',' expected\n",
      "(1,19): error CS1003: Syntax error, ',' expected\n",
      "(1,31): error CS1003: Syntax error, ',' expected\n",
      "(3,15): error CS1003: Syntax error, ',' expected\n",
      "(3,17): error CS1003: Syntax error, ',' expected\n",
      "(3,26): error CS1003: Syntax error, ',' expected\n",
      "(4,17): error CS1003: Syntax error, ',' expected\n",
      "(4,19): error CS1003: Syntax error, ',' expected\n",
      "(4,30): error CS1003: Syntax error, ',' expected\n",
      "(5,18): error CS1003: Syntax error, ',' expected\n",
      "(5,20): error CS1003: Syntax error, ',' expected\n",
      "(6,6): error CS1003: Syntax error, ',' expected\n",
      "(22,40): error CS1002: ; expected\n",
      "(23,5): error CS7017: Member definition, statement, or end-of-file expected\n",
      "(26,26): error CS1003: Syntax error, ',' expected\n",
      "(27,31): error CS1003: Syntax error, ',' expected\n",
      "(27,32): error CS1003: Syntax error, ',' expected\n",
      "(28,33): error CS1003: Syntax error, ',' expected\n",
      "(29,6): error CS1002: ; expected\n",
      "(31,9): error CS1002: ; expected"
     ]
    }
   ],
   "source": [
    "[<CustomEquality; NoComparison>]\n",
    "type EqualityContact = {\n",
    "    ContactId : ContactId\n",
    "    PhoneNumber : PhoneNumber\n",
    "    EmailAddress : EmailAddress\n",
    "    }\n",
    "    with\n",
    "    override this.Equals(obj) =\n",
    "        match obj with \n",
    "        | :? EqualityContact as c -> this.ContactId = c.ContactId\n",
    "        | _ -> false\n",
    "    override this.GetHashCode() =\n",
    "        hash this.ContactId \n",
    "\n",
    "//This is admittedly Object Oriented code but it's just to show off overriding \n",
    "\n",
    "//So let's define a couple of contacts:\n",
    "let contactId = ContactId 1\n",
    "let contact1 = {\n",
    "    ContactId = contactId\n",
    "    PhoneNumber = PhoneNumber 1\n",
    "    EmailAddress = EmailAddress \"email\"\n",
    "    }\n",
    "\n",
    "let contact2 = {\n",
    "    ContactId = contactId\n",
    "    PhoneNumber = PhoneNumber 2\n",
    "    EmailAddress = EmailAddress \"email2\"\n",
    "    }\n",
    "\n",
    "printfn \"%b\" (contact1 = contact2)"
   ]
  },
  {
   "cell_type": "markdown",
   "metadata": {
    "vscode": {
     "languageId": "polyglot-notebook"
    }
   },
   "source": [
    "Fun stuff. Also, a little bonus bit here, if we fancy not allowing equality testing, we can use [<NoEquality: NoComparison>] before the type. Useful if we want to be explicit about what is actually equal in an entity- we should comapre the id's not the the actual entity."
   ]
  },
  {
   "cell_type": "markdown",
   "metadata": {},
   "source": [
    "### Immutability\n",
    "It's functional programming, so we want things to be immutable. For the Value Objects, that's easy. Just make a new one with the changed value.\n",
    "\n",
    "Entities are slightly harder, but it's pretty much the same- copy the initial entity, change the field you want to change, and store the copy as a new entity (but do keep the id's the same- it might be a new entity decleration, but we're still working with the same thing.)\n",
    "\n",
    "\n",
    "### Aggregates\n",
    "Entities also pose problems if they're nested. Entities within Entities is known as an _aggregate_, with the top level being the _aggregate root_. If you're making changes to an entitty within the aggregae, really these changes have to be made at the aggregate root level. Say we have an Account entitiy, which within it has a customer entity, which within it has a customer name. If we change the name, we need to make a copy of the _Account_, not the customer name!\n",
    "\n",
    "\n",
    "#### References\n",
    "\n",
    "Let's look at a new example, with a customer making orders:"
   ]
  },
  {
   "cell_type": "code",
   "execution_count": 13,
   "metadata": {
    "dotnet_interactive": {
     "language": "csharp"
    },
    "polyglot_notebook": {
     "kernelName": "csharp"
    },
    "vscode": {
     "languageId": "polyglot-notebook"
    }
   },
   "outputs": [
    {
     "ename": "Error",
     "evalue": "(2,13): error CS1003: Syntax error, ',' expected\n(2,15): error CS1003: Syntax error, ',' expected\n(2,22): error CS1003: Syntax error, ',' expected\n(3,13): error CS1003: Syntax error, ',' expected\n(3,15): error CS1003: Syntax error, ',' expected\n(3,23): error CS1003: Syntax error, ',' expected\n(4,15): error CS1003: Syntax error, ',' expected\n(4,17): error CS1003: Syntax error, ',' expected\n(5,2): error CS1002: ; expected\n(10,13): error CS1003: Syntax error, ',' expected\n(10,15): error CS1003: Syntax error, ',' expected\n(10,22): error CS1003: Syntax error, ',' expected\n(11,15): error CS1003: Syntax error, ',' expected\n(11,17): error CS1003: Syntax error, ',' expected\n(11,27): error CS1003: Syntax error, ',' expected\n(12,15): error CS1003: Syntax error, ',' expected\n(12,17): error CS1003: Syntax error, ',' expected\n(13,2): error CS1002: ; expected",
     "output_type": "error",
     "traceback": [
      "(2,13): error CS1003: Syntax error, ',' expected\n",
      "(2,15): error CS1003: Syntax error, ',' expected\n",
      "(2,22): error CS1003: Syntax error, ',' expected\n",
      "(3,13): error CS1003: Syntax error, ',' expected\n",
      "(3,15): error CS1003: Syntax error, ',' expected\n",
      "(3,23): error CS1003: Syntax error, ',' expected\n",
      "(4,15): error CS1003: Syntax error, ',' expected\n",
      "(4,17): error CS1003: Syntax error, ',' expected\n",
      "(5,2): error CS1002: ; expected\n",
      "(10,13): error CS1003: Syntax error, ',' expected\n",
      "(10,15): error CS1003: Syntax error, ',' expected\n",
      "(10,22): error CS1003: Syntax error, ',' expected\n",
      "(11,15): error CS1003: Syntax error, ',' expected\n",
      "(11,17): error CS1003: Syntax error, ',' expected\n",
      "(11,27): error CS1003: Syntax error, ',' expected\n",
      "(12,15): error CS1003: Syntax error, ',' expected\n",
      "(12,17): error CS1003: Syntax error, ',' expected\n",
      "(13,2): error CS1002: ; expected"
     ]
    }
   ],
   "source": [
    "type Order = {\n",
    "    OrderId : OrderId\n",
    "    Customer: Customer\n",
    "    OtherStuff: OtherStuff\n",
    "}\n",
    "\n",
    "//In this instance, Customer is an Entity. But what if we want to change Customer? We then have to change the order as well which due to immutability is a nuisance. It's probably better to reference the Customer instead:\n",
    "\n",
    "type BetterOrder = {\n",
    "    OrderId : OrderId\n",
    "    CustomerId: CustomerId\n",
    "    OtherStuff: OtherStuff\n",
    "}"
   ]
  },
  {
   "cell_type": "markdown",
   "metadata": {
    "vscode": {
     "languageId": "polyglot-notebook"
    }
   },
   "source": [
    "BetterOrder is better, because then we can jsut look up Customer. If Customer is changed, we don't care! We don't use the Customer fields directly here. Customer and Order have become independent and distinct aggregates. They look after themselves and are only linked by their identifiers in the root aggregate.\n",
    "\n",
    "A final note here, when retrieving aggregates always retrieve the whole thing. Then there's no chance of changing part of something but not the whole. If you think you only need part of an entity, maybe make a new entity for the stuff you need!\n",
    "\n",
    "Aggregates will be everywhere in a domain, so it's a very good idea to define them first as part of the modelling process rather thann implementation\n",
    "\n",
    "The idea of aggregates comes up a lot later on in the book, so I'd recommend reading the chapter. It covers a lot of this in more detail, especially as I ran out of time :/ "
   ]
  }
 ],
 "metadata": {
  "kernelspec": {
   "display_name": ".NET (C#)",
   "language": "C#",
   "name": ".net-csharp"
  },
  "language_info": {
   "name": "csharp"
  },
  "polyglot_notebook": {
   "kernelInfo": {
    "defaultKernelName": "csharp",
    "items": [
     {
      "aliases": [],
      "name": "csharp"
     }
    ]
   }
  }
 },
 "nbformat": 4,
 "nbformat_minor": 2
}
