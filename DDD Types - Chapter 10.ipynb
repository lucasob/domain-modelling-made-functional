{
 "cells": [
  {
   "cell_type": "markdown",
   "metadata": {},
   "source": [
    "# Working with Errors\n",
    "Last chapter we started working on the implementation of the domain, but we neglected to mention errors.   \n",
    "All systems have errors and we can make these explicit but hopefully handle them elegantly as well.  \n",
    "\n",
    "## Using the `Result` type to make errors explicit\n",
    "We don't want to have invisible control flow and `goto` statements in our code.   \n",
    "In the previous chapter we threw exceptions which means that all of the function signatures were misleading.  \n",
    "We can represent these errors in the type system to make it explicit that they can happen and force the users of our API to handle them (even if those users are us)"
   ]
  },
  {
   "cell_type": "markdown",
   "metadata": {},
   "source": [
    "Here is an example from last chapter:"
   ]
  },
  {
   "cell_type": "code",
   "execution_count": null,
   "metadata": {
    "dotnet_interactive": {
     "language": "fsharp"
    },
    "polyglot_notebook": {
     "kernelName": "fsharp"
    },
    "vscode": {
     "languageId": "polyglot-notebook"
    }
   },
   "outputs": [],
   "source": [
    "type Undefined = exn\n",
    "type UnvalidatedAddress = Undefined\n",
    "type CheckedAddress = Undefined\n",
    "\n",
    "module Bad = \n",
    "    type CheckAddressExists = UnvalidatedAddress -> CheckedAddress\n",
    "\n",
    "module Clearer =\n",
    "    type CheckAddressExists = UnvalidatedAddress -> Result<CheckedAddress, AddressValidationError>\n",
    "        and \n",
    "        AddressValidationError =\n",
    "        | InvalidFormat of string\n",
    "        | AddressNotFound"
   ]
  },
  {
   "cell_type": "markdown",
   "metadata": {},
   "source": [
    "Our function is now a total function (it returns an output for every input).\n",
    "It tells us that:\n",
    "- The input is an `UnvalidatedAddress`\n",
    "- If the validation was successful, the output is a `CheckedAddress`\n",
    "- If the validation was not successful, the reason is because the format was invalid or because the address was not found.\n",
    "\n",
    "In this way the function's type signature can act as documentation."
   ]
  },
  {
   "cell_type": "markdown",
   "metadata": {},
   "source": [
    "## Working with Demain Errors\n",
    "We can classify errors into 3 groups\n",
    "1. Domain errors:  \n",
    "    These are errors that are expected as part of the business process and must be included in the design. The business will already have procedures in place to deal with these errors and the code needs to reflect them.\n",
    "1. Panics:  \n",
    "    These are errors that leave the system in an unknown state such as unhandleable system errors or errors caused by programmer oversight.\n",
    "1. Infrastructure errors:  \n",
    "    These are errors that are expected, but are not part of any business process, such as network timeout or authentication failure.\n",
    "  \n",
    "We can determine if an error is a domain error by asking the domain expert (or not depending on how weird that would be)  "
   ]
  },
  {
   "cell_type": "markdown",
   "metadata": {},
   "source": [
    "We handle these errors in different ways.\n",
    "\n",
    "### Domain errors\n",
    "Domain errors are part of the domain, and should be incorporated in the domain modelling, discussed with the domain experts and documented in the type system.\n",
    "\n",
    "### Panics\n",
    "Panics are best handled by abandoning the workflow and raising an exception which is caught at the highest appropriate level.\n",
    "\n",
    "### Infrastructure errors\n",
    "Infrastructure errors can be handled with either of the above approaches. It depends on the individual case."
   ]
  },
  {
   "cell_type": "markdown",
   "metadata": {},
   "source": [
    "## Modelling domain errors in types\n",
    "In the same way that we haven't been using primitive types in our domain, we want to have domain specific error types.  \n",
    "Generally we should model errors as a choice type, with a separate case for each kind of error.  \n",
    "For example we might model errors in our order taking workflow like this:"
   ]
  },
  {
   "cell_type": "code",
   "execution_count": null,
   "metadata": {
    "dotnet_interactive": {
     "language": "fsharp"
    },
    "polyglot_notebook": {
     "kernelName": "fsharp"
    },
    "vscode": {
     "languageId": "polyglot-notebook"
    }
   },
   "outputs": [],
   "source": [
    "type ProductCode = Undefined\n",
    "type RemoteServiceError = Undefined\n",
    "\n",
    "type PlaceOrderError =\n",
    "| ValidationError of string\n",
    "| ProductOutOfStock of ProductCode\n",
    "| RemoteServiceError of RemoteServiceError\n",
    "// ... etc"
   ]
  },
  {
   "cell_type": "markdown",
   "metadata": {},
   "source": [
    "The choice type acts as explicit documentation, but also ensures that expanding the error enum is safe, because the compiler ensures that all pattern matchers have a case for the new error type.  \n",
    "Errors usually come up naturally as you develop a system, and these can be added as we go."
   ]
  },
  {
   "cell_type": "markdown",
   "metadata": {},
   "source": [
    "## Error handling makes your code ugly (why we love Monads (and Applicatives (and Functors)))\n",
    "The 'nice' thing about exceptions is that they keep your happy path code looking clean.  \n",
    "If we have to return errors in each step, we get some very nested and ugly looking code (especially if we don't have early return)"
   ]
  },
  {
   "cell_type": "markdown",
   "metadata": {},
   "source": [
    "```clojure\n",
    "(let [customer-info-result (create-name)]\n",
    "    (if (not customer-info-result)\n",
    "      {:error \"failed to create name\"}\n",
    "      (let [shipping-address-result (create-valid-address)]\n",
    "        (if (not shipping-address-result)\n",
    "          {:error \"failed to create a valid address\"}\n",
    "          (let [] ...)))))\n",
    "```"
   ]
  },
  {
   "cell_type": "markdown",
   "metadata": {},
   "source": [
    "And even in languages with early return, we end up with a majority of code devoted to error handling.  \n",
    "How can we introduce error handling which preserving the elegance of our pipeline?"
   ]
  },
  {
   "cell_type": "markdown",
   "metadata": {},
   "source": [
    "## Chaining `Result`-generating functions\n",
    "To summarise a very useful analogy, we create a function connector, which, once we have returned one error, bypasses all other logic and just returns the error.  \n",
    "This function has a lot of names and here are a couple:\n",
    "- `bind`\n",
    "- `flatMap`\n",
    "- `SelectMany` (Just because we're in .NET)\n",
    "\n",
    "We can fairly intuitively write this function if we write out the requirements.\n",
    "1. If the input to the function is a success, pass the inner value to the next function in the chain\n",
    "1. If the input is a failure, bypass the logic and return the error"
   ]
  },
  {
   "cell_type": "code",
   "execution_count": null,
   "metadata": {
    "dotnet_interactive": {
     "language": "fsharp"
    },
    "polyglot_notebook": {
     "kernelName": "fsharp"
    },
    "vscode": {
     "languageId": "polyglot-notebook"
    }
   },
   "outputs": [],
   "source": [
    "let bind f = function\n",
    "| Ok x -> f x\n",
    "| e -> e"
   ]
  },
  {
   "cell_type": "markdown",
   "metadata": {},
   "source": [
    "Another useful function is one that turns a function that takes a basic value and returns a function which takes a result.  \n",
    "This function is called `map` (or `Select`) and looks like this:"
   ]
  },
  {
   "cell_type": "code",
   "execution_count": null,
   "metadata": {
    "dotnet_interactive": {
     "language": "fsharp"
    },
    "polyglot_notebook": {
     "kernelName": "fsharp"
    },
    "vscode": {
     "languageId": "polyglot-notebook"
    }
   },
   "outputs": [],
   "source": [
    "let map f = function\n",
    "| Ok x -> Ok (f x)\n",
    "| e -> e"
   ]
  },
  {
   "cell_type": "markdown",
   "metadata": {},
   "source": [
    "## Organizing the `Result` functions\n",
    "We should put these functions in a module with the same name is the type"
   ]
  },
  {
   "cell_type": "code",
   "execution_count": 7,
   "metadata": {
    "dotnet_interactive": {
     "language": "fsharp"
    },
    "polyglot_notebook": {
     "kernelName": "fsharp"
    },
    "vscode": {
     "languageId": "polyglot-notebook"
    }
   },
   "outputs": [],
   "source": [
    "type MyResult<'Success, 'Failure> =\n",
    "| Ok of 'Success\n",
    "| Failure of 'Failure\n",
    "\n",
    "module MyResult =\n",
    "    let bind f = function\n",
    "    | Ok x -> f x\n",
    "    | Failure e -> Failure e\n",
    "\n",
    "    let map f = function\n",
    "    | Ok x -> Ok (f x)\n",
    "    | Failure e -> Failure e\n",
    "\n",
    "    // map can be written in terms of bind\n",
    "    let map' f = bind (f >> Ok)\n",
    "\n",
    "    // Bind is often written with this symbol \n",
    "    let (>>=) x f = bind f x"
   ]
  },
  {
   "cell_type": "code",
   "execution_count": null,
   "metadata": {
    "dotnet_interactive": {
     "language": "fsharp"
    },
    "polyglot_notebook": {
     "kernelName": "fsharp"
    },
    "vscode": {
     "languageId": "polyglot-notebook"
    }
   },
   "outputs": [],
   "source": [
    "type Apple = Apple\n",
    "type Banana = Banana\n",
    "type Cherry = Cherry\n",
    "type Lemon = Lemon\n",
    "\n",
    "type FunctionA = Apple -> MyResult<Banana, unit>\n",
    "type FunctionB = Banana -> MyResult<Cherry, unit>\n",
    "type FunctionC = Cherry -> MyResult<Lemon, unit>\n",
    "\n",
    "let functionA : FunctionA = fun a -> Failure ()\n",
    "let functionB : FunctionB = fun b -> Failure ()\n",
    "let functionC : FunctionC = fun c -> Failure ()\n",
    "\n",
    "let functionABC input =\n",
    "    input\n",
    "    |> functionA\n",
    "    |> MyResult.bind functionB\n",
    "    |> MyResult.bind functionC"
   ]
  },
  {
   "cell_type": "markdown",
   "metadata": {},
   "source": [
    "Currently our system allows the success type to change the type of our `Success` case, but the `Failure` case is the same type all the way along.  \n",
    "We're going to need a way to change the error types to make them compatible with one another.  \n",
    "We can do this with a `map` function the same way we did with the `Success` case.  "
   ]
  },
  {
   "cell_type": "code",
   "execution_count": null,
   "metadata": {
    "dotnet_interactive": {
     "language": "fsharp"
    },
    "polyglot_notebook": {
     "kernelName": "fsharp"
    },
    "vscode": {
     "languageId": "polyglot-notebook"
    }
   },
   "outputs": [],
   "source": [
    "module MyResult =\n",
    "    let mapError f = function\n",
    "    | Ok x -> Ok x\n",
    "    | Failure e -> Failure (f e)\n",
    "\n",
    "type AppleError = AppleError\n",
    "type BananaError = BananaError\n",
    "type CherryError = CherryError\n",
    "\n",
    "type FruitError =\n",
    "    | AppleErrorCase of AppleError\n",
    "    | BananaErrorCase of BananaError\n",
    "\n",
    "let functionA = fun a -> Failure AppleError\n",
    "\n",
    "let functionWithAFruitError input =\n",
    "    input\n",
    "    |> functionA\n",
    "    |> MyResult.mapError AppleErrorCase"
   ]
  },
  {
   "cell_type": "markdown",
   "metadata": {},
   "source": [
    "## Using `bind` and `map` in our pipeline\n",
    "Let's see how we can use these functions in our pipeline"
   ]
  },
  {
   "cell_type": "code",
   "execution_count": null,
   "metadata": {
    "dotnet_interactive": {
     "language": "fsharp"
    },
    "polyglot_notebook": {
     "kernelName": "fsharp"
    },
    "vscode": {
     "languageId": "polyglot-notebook"
    }
   },
   "outputs": [],
   "source": [
    "module Domain =\n",
    "    type UnvalidatedOrder = Undefined\n",
    "    type ValidatedOrder = Undefined\n",
    "    type ValidationError = Undefined\n",
    "    type PricingError = Undefined\n",
    "    type PricedOrder = Undefined\n",
    "    type OrderAcknowledgementSent = Undefined\n",
    "    type PlaceOrderEvent = Undefined\n",
    "\n",
    "    type ValidateOrder = UnvalidatedOrder -> MyResult<ValidatedOrder, ValidationError>\n",
    "    type PriceOrder = ValidatedOrder -> MyResult<PricedOrder, PricingError>\n",
    "    type AcknowledgeOrder = PricedOrder -> OrderAcknowledgementSent option\n",
    "    type CreateEvents = PricedOrder -> OrderAcknowledgementSent option -> PlaceOrderEvent list\n",
    "\n",
    "    type PlaceOrderError = \n",
    "    | Validation of ValidationError\n",
    "    | Pricing of PricingError\n",
    "\n",
    "    let validateOrder: ValidateOrder = fun unvalidated -> failwith \"not implemented\"\n",
    "    let priceOrder: PriceOrder = fun validated -> failwith \"not implemented\"\n",
    "    let acknowledgeOrder: AcknowledgeOrder = fun priced -> failwith \"not implemented\"\n",
    "    let createEvents: CreateEvents = fun priced -> failwith \"not implemented\"\n",
    "    \n",
    "    let validateOrderAdapted input =\n",
    "        input \n",
    "        |> validateOrder\n",
    "        |> MyResult.mapError PlaceOrderError.Validation\n",
    "\n",
    "\n",
    "    let priceOrderAdapted input =\n",
    "        input\n",
    "        |> priceOrder\n",
    "        |> MyResult.mapError PlaceOrderError.Pricing\n",
    "\n",
    "    let placeOrder unvalidatedOrder =\n",
    "        unvalidatedOrder\n",
    "        |> validateOrderAdapted\n",
    "        |> MyResult.bind priceOrderAdapted\n",
    "        |> MyResult.map acknowledgeOrder\n",
    "        // |> MyResult.map createEvents\n",
    "        // This last line doesn't work\n"
   ]
  },
  {
   "cell_type": "markdown",
   "metadata": {},
   "source": [
    "As you can see, the proposed last line doesn't work. This is because we're missing some adapter types.  \n",
    "Our `MyResult.map acknowledgeOrder` function returns a `Result<OrderAcknowledgementSent option, PlaceOrderError>`  \n",
    "but `MyResult.map createEvents` function takes input of type `Result<PricedOrder, PlaceOrderError>`"
   ]
  },
  {
   "cell_type": "markdown",
   "metadata": {},
   "source": [
    "## Other adapter types\n",
    "### Handling Exceptions\n",
    "We aren't throwing exceptions in our domain code, but what about those thrown by libraries or other services?  \n",
    "We can create another type of adapter which handles exceptions for us."
   ]
  },
  {
   "cell_type": "code",
   "execution_count": null,
   "metadata": {
    "dotnet_interactive": {
     "language": "fsharp"
    },
    "polyglot_notebook": {
     "kernelName": "fsharp"
    },
    "vscode": {
     "languageId": "polyglot-notebook"
    }
   },
   "outputs": [],
   "source": [
    "type ServiceInfo = {\n",
    "    Name: string\n",
    "    Endpoint: Uri\n",
    "}\n",
    "\n",
    "type RemoteServiceError = {\n",
    "    Service: ServiceInfo\n",
    "    Exception: System.Exception\n",
    "}\n",
    "\n",
    "exception AuthorizationException\n",
    "\n",
    "let serviceExceptionAdapter serviceInfo serviceFn x =\n",
    "    try\n",
    "        Ok (serviceFn x)\n",
    "    with\n",
    "    | :? TimeoutException as ex ->\n",
    "        Failure { Service=serviceInfo; Exception=ex }\n",
    "    | :? AuthorizationException as ex ->\n",
    "        Failure {Service=serviceInfo; Exception=ex}"
   ]
  },
  {
   "cell_type": "markdown",
   "metadata": {},
   "source": [
    "Note that we are only catching exceptions that are relevant to the domain.  "
   ]
  },
  {
   "cell_type": "code",
   "execution_count": null,
   "metadata": {
    "dotnet_interactive": {
     "language": "fsharp"
    },
    "polyglot_notebook": {
     "kernelName": "fsharp"
    },
    "vscode": {
     "languageId": "polyglot-notebook"
    }
   },
   "outputs": [],
   "source": [
    "let serviceInfo = {\n",
    "    Name = \"AddressCheckingService\"\n",
    "    Endpoint = Uri(\"http://google.com\")\n",
    "}\n",
    "\n",
    "let checkAddressExists address = raise AuthorizationException\n",
    "\n",
    "let checkAddressExistsR address =\n",
    "    let adaptedService =\n",
    "        serviceExceptionAdapter serviceInfo checkAddressExists\n",
    "    adaptedService address"
   ]
  },
  {
   "cell_type": "markdown",
   "metadata": {},
   "source": [
    "The type of our original function looked like this\n",
    "```fsharp\n",
    "checkAddressExists -> CheckedAddress\n",
    "```\n",
    "but our new type looks like this\n",
    "```fsharp\n",
    "checkAddressExistsR -> Result<CheckedAddress, RemoteServiceError>\n",
    "```\n",
    "\n",
    "As a side note we would have to update our PlaceOrderError enum to include the new error type\n",
    "```fsharp\n",
    "type PlaceOrderError =\n",
    "| Validation of ValidationError\n",
    "| Pricing of PricingError\n",
    "| RemoteService of RemoteServiceError\n",
    "```"
   ]
  },
  {
   "cell_type": "markdown",
   "metadata": {},
   "source": [
    "### Handling dead-end functions\n",
    "Another common type of function we call is a 'dead-end function'. A function which takes input and performs side effects but doesn't return any output.  \n",
    "To make this work with the two track pipeline, we need another adapter."
   ]
  },
  {
   "cell_type": "code",
   "execution_count": null,
   "metadata": {
    "dotnet_interactive": {
     "language": "fsharp"
    },
    "polyglot_notebook": {
     "kernelName": "fsharp"
    },
    "vscode": {
     "languageId": "polyglot-notebook"
    }
   },
   "outputs": [],
   "source": [
    "let tee f x = \n",
    "    f x\n",
    "    x\n",
    "\n",
    "let adaptDeadEnd f =\n",
    "    Result.map (tee f)"
   ]
  },
  {
   "cell_type": "markdown",
   "metadata": {},
   "source": [
    "Here we are running the function and returning the input."
   ]
  },
  {
   "cell_type": "markdown",
   "metadata": {},
   "source": [
    "## Making life easier with computation expressions\n",
    "So far we've been able to join our expressions together fairly simply with `bind` and `map` but sometimes the flow is more complicated.  \n",
    "We might need conditional branches, loops or deeply nested functions. F# provides some syntax sugar for this.  \n",
    "They look like magic but under the hood it's surprisingly simple.\n",
    "\n",
    "For the most basic computation expression, you need 2 functions (which look suspiciously like the definition of a monad...)\n",
    "1. `bind` which we have seen already\n",
    "1. `return` which just wraps a value. In this case, `return` is just the `Ok` constructor.\n",
    "\n",
    "With these functions we can convert this code:\n",
    "```fsharp\n",
    "let placeOrder unvalidatedOrder =\n",
    "    unvalidatedOrder\n",
    "    |> validateOrderAdapted\n",
    "    |> Result.bind priceOrderAdapted\n",
    "    |> Result.map acknowledgeOrder\n",
    "    |> Result.map createEvents\n",
    "```\n",
    "into\n",
    "```fsharp\n",
    "let placeOrder unvalidatedOrder = result {\n",
    "    let! validatedOrder = validateOrder unvalidatedOrder |> Result.mapError PlaceOrderError.Validation\n",
    "    let! pricedOrder = priceOrder validatedOrder |> Result.mapError PlaceOrderError.Pricing\n",
    "    let acknowledgementOption = acknowledgeOrder pricedOrder\n",
    "    let events = createEvents pricedOrder acknowledgementOption\n",
    "    return events\n",
    "}\n",
    "```"
   ]
  },
  {
   "cell_type": "markdown",
   "metadata": {},
   "source": [
    "We can imagine that this roughly desugars to\n",
    "```fsharp\n",
    "let (>>=) x f = bind f x\n",
    "\n",
    "let placeOrder unvalidatedOrder =\n",
    "    validateOrder unvalidatedOrder |> Result.mapError PlaceOrderError.Validation >>= (fun validatedOrder ->\n",
    "    priceOrder validatedOrder |> Result.mapError PlaceOrderError.Pricing >>= (fun pricedOrder ->\n",
    "    let acknowledgementOption = acknowledgeOrder pricedOrder\n",
    "    let events = createEvents pricedOrder acknowledgementOption\n",
    "    Ok events)) \n",
    "```\n",
    "\n",
    "You can sort of see where the nesting has gone in our code. It's still there because it has to be, but we don't see it any more."
   ]
  },
  {
   "cell_type": "code",
   "execution_count": null,
   "metadata": {
    "dotnet_interactive": {
     "language": "fsharp"
    },
    "polyglot_notebook": {
     "kernelName": "fsharp"
    },
    "vscode": {
     "languageId": "polyglot-notebook"
    }
   },
   "outputs": [],
   "source": [
    "type ResultBuilder() =\n",
    "    member this.Return(x) = MyResult.Ok x\n",
    "    member this.Bind(x, f) = MyResult.bind f x\n",
    "\n",
    "let result = ResultBuilder()\n",
    "\n",
    "open Domain\n",
    "\n",
    "let validateOrder: ValidateOrder = fun unvalidated -> failwith \"not implemented\"\n",
    "let priceOrder: PriceOrder = fun validated -> failwith \"not implemented\"\n",
    "\n",
    "let validateOrder' unvalidatedOrder = result {\n",
    "    let! validatedOrder = validateOrder unvalidatedOrder |> MyResult.mapError PlaceOrderError.Validation\n",
    "    return validatedOrder\n",
    "}\n",
    "let priceOrder' validatedOrder = result {\n",
    "    let! pricedOrder = priceOrder validatedOrder |> MyResult.mapError PlaceOrderError.Pricing\n",
    "    return pricedOrder\n",
    "}"
   ]
  },
  {
   "cell_type": "markdown",
   "metadata": {},
   "source": [
    "Now lets apply this to some code that doesn't currently have any error handling.  \n",
    "For example the validateOrder flow from the last chapter:\n",
    "\n",
    "```fsharp\n",
    "let validateOrder : ValidateOrder =\n",
    "    fun checkProductCodeExists checkAddressExists unvalidatedOrder ->\n",
    "        let orderId =\n",
    "            unvalidatedOrder.OrderId\n",
    "            |> OrderId.create\n",
    "        let customerInfo =\n",
    "            unvalidatedOrder.CustomerInfo\n",
    "            |> toCustomerInfo\n",
    "        let shippingAddress = \n",
    "            unvalidatedOrder.ShippingAddress\n",
    "            |> toAddress checkAddressExists\n",
    "        let billingAddress = ...\n",
    "        let lines = ...\n",
    "\n",
    "        let validatedOrder: ValidatedOrder = {\n",
    "            OrderId = orderId\n",
    "            CustomerInfo = customerInfo\n",
    "            ShippingAddress = shippingAddress\n",
    "            BillingAddress = billingAddress\n",
    "            Lines = lines\n",
    "        }\n",
    "\n",
    "        validatedOrder\n",
    "```\n",
    "\n",
    "We just need to change all of the functions that can error to return `Result`s. For example now `OrderId.create` should return a `Result<OrderId, string>`.  \n",
    "Now the implementation looks like this\n",
    "\n",
    "```fsharp\n",
    "let validateOrder: ValidateOrder =\n",
    "    fun checkProductCodeExists checkAddressExists unvalidatedOrder -> result {\n",
    "        let! orderId =\n",
    "            unvalidatedOrder.OrderId\n",
    "            |> OrderId.create\n",
    "            |> MyResult.mapError ValidationError\n",
    "        let! customerInfo =\n",
    "            unvalidatedOrder.CustomerInfo\n",
    "            |> toCustomerInfo\n",
    "        let! shippingAddress = ...\n",
    "        let! billingAddress = ...\n",
    "        let! lines = ...\n",
    "\n",
    "        let validatedOrder: ValidatedOrder = {\n",
    "            OrderId = orderId\n",
    "            CustomerInfo = customerInfo\n",
    "            ShippingAddress = shippingAddress\n",
    "            BillingAddress = billingAddress\n",
    "            Lines = lines\n",
    "        }\n",
    "\n",
    "        return validatedOrder\n",
    "    }\n",
    "```"
   ]
  },
  {
   "cell_type": "markdown",
   "metadata": {},
   "source": [
    "### Working with lists of results\n",
    "Originally we could just map over the lines in our order, but now that the `toValidatedOrderLine` function returns a `Result` we end up with a `Result<ValidatedOrderLine, ...> list`  \n",
    "We don't want a `Result<ValidatedOrderLine, ...> list` we would rather have a `Result<ValidatedOrderLine list, ...>`  \n",
    "We can write a function that inverts this type. It is usually called `sequence`."
   ]
  },
  {
   "cell_type": "code",
   "execution_count": null,
   "metadata": {
    "dotnet_interactive": {
     "language": "fsharp"
    },
    "polyglot_notebook": {
     "kernelName": "fsharp"
    },
    "vscode": {
     "languageId": "polyglot-notebook"
    }
   },
   "outputs": [],
   "source": [
    "module MyResult =\n",
    "    let prepend firstR restR =\n",
    "        match firstR, restR with\n",
    "        | Ok first, Ok rest -> Ok (first::rest)\n",
    "        | Failure err1, Ok _ -> Failure err1\n",
    "        | Ok _, Failure err2 -> Failure err2\n",
    "        | Failure err1, Failure _ -> Failure err1\n",
    "\n",
    "    let sequence aListOfResults =\n",
    "        let initialValue = Ok []\n",
    "        // foldBack is equivalent to reduce\n",
    "        List.foldBack prepend aListOfResults initialValue"
   ]
  },
  {
   "cell_type": "markdown",
   "metadata": {},
   "source": [
    "Now we can write our validation code like this\n",
    "```fsharp\n",
    "let validateOrder: ValidateOrder =\n",
    "    fun checkProductCodeExists checkAddressExists unvalidatedOrder -> result {\n",
    "        ...\n",
    "        let! lines = unvalidatedOrder.Lines\n",
    "        |> List.map (toValidatedOrderLine checkProductCodeExists)\n",
    "        |> MyResult.sequence\n",
    "    }\n",
    "\n",
    "    let validatedOrder: ValidatedOrder = {\n",
    "            OrderId = orderId\n",
    "            CustomerInfo = customerInfo\n",
    "            ShippingAddress = shippingAddress\n",
    "            BillingAddress = billingAddress\n",
    "            Lines = lines\n",
    "        }\n",
    "\n",
    "    return validatedOrder\n",
    "```\n",
    "\n",
    "`List.map` followed by `Result.sequence` can be made more efficient by combining them into a single operation called `traverse`"
   ]
  },
  {
   "cell_type": "markdown",
   "metadata": {},
   "source": [
    "## What is a Monad?\n",
    "The book tries not to use the word Monad until this point, but a Monad is just a data structure with the `return` (or `pure`) function and a `bind` function.  \n",
    "It is important that these functions follow some rules\n",
    "1. Identity  \n",
    "    `bind (return x) h ≡ h x`\n",
    "1. Right identity  \n",
    "    `bind return x ≡  x`\n",
    "1. Associativity  \n",
    "    `bind h (bind g x) ≡ bind (fun y -> bind h (g y)) x`\n",
    "\n",
    "We have seen in this chapter how we can use these functions to hide side effects in normal looking code."
   ]
  },
  {
   "cell_type": "markdown",
   "metadata": {},
   "source": [
    "## Composing in parallel with Applicatives\n",
    "Applicatives are similar to Monads, but rather than chaining functions in series, they allow chaining functions in parallel.  \n",
    "All Monads are Applicative functors.  \n",
    "Applicative validation allows us to run several validation functions, returning all of the errors that come up. This means if we get a validation error, we don't have to fix them one at a time and order doesn't matter."
   ]
  },
  {
   "cell_type": "code",
   "execution_count": 3,
   "metadata": {
    "dotnet_interactive": {
     "language": "fsharp"
    },
    "polyglot_notebook": {
     "kernelName": "fsharp"
    },
    "vscode": {
     "languageId": "polyglot-notebook"
    }
   },
   "outputs": [
    {
     "ename": "Error",
     "evalue": "input.fsx (1,1)-(1,1) interactive error internal error: Could not load type 'UserCreationFailure' from assembly 'FSI-ASSEMBLY, Version=0.0.0.0, Culture=neutral, PublicKeyToken=null'.",
     "output_type": "error",
     "traceback": [
      "input.fsx (1,1)-(1,1) interactive error internal error: Could not load type 'UserCreationFailure' from assembly 'FSI-ASSEMBLY, Version=0.0.0.0, Culture=neutral, PublicKeyToken=null'."
     ]
    }
   ],
   "source": [
    "module Applicatives =\n",
    "    type UnvalidatedUser = {\n",
    "        Name: string\n",
    "        Email: string\n",
    "        DateOfBirth: string\n",
    "    }\n",
    "\n",
    "    type ValidatedUser = {\n",
    "        Name: string\n",
    "        Email: string\n",
    "        DateOfBirth: DateTime\n",
    "    }\n",
    "\n",
    "    type UserCreationFailure =\n",
    "        | NameIsInvalidFailure\n",
    "        | EmailIsInvalidFailure\n",
    "        | DateOfBirthIsInvalidFailure\n",
    "        | IDoNotLikeYouFailure\n",
    "\n",
    "    let validateName : string -> Result<string, UserCreationFailure list> =\n",
    "        fun input ->\n",
    "            if not (String.IsNullOrWhiteSpace(input)) then Ok input else Error [ NameIsInvalidFailure ]\n",
    "\n",
    "    let validateEmail : string -> Result<string, UserCreationFailure list> =\n",
    "        fun input ->\n",
    "            if input = \"ben.cross@kroo.com\" then Ok input else Error [ EmailIsInvalidFailure ]\n",
    "\n",
    "    let validateDateOfBirth : string ->  Result<DateTime, UserCreationFailure list> =\n",
    "        fun input ->\n",
    "            if input = \"1970-01-01\" then Ok (DateTime(1970, 1 ,1)) else Error [ DateOfBirthIsInvalidFailure; IDoNotLikeYouFailure ]\n",
    "\n",
    "    let create name email dateOfBirth =\n",
    "        { ValidatedUser.Name = name; Email = email; DateOfBirth = dateOfBirth}\n",
    "\n",
    "    module Result =\n",
    "        let apply (fResult: Result<('a -> 'b), 'c list>) (xResult: Result<'a, 'c list>): Result<'b, 'c list> =\n",
    "            match fResult, xResult with\n",
    "            | Ok f, Ok x -> Ok (f x)\n",
    "            | Error ex, Ok _ -> Error ex\n",
    "            | Ok _, Error ex -> Error ex\n",
    "            | Error ex1, Error ex2 -> Error (List.concat [ex1; ex2])\n",
    "\n",
    "    let validate (input: UnvalidatedUser): Result<ValidatedUser, UserCreationFailure list> =\n",
    "        let validatedName = validateName input.Name\n",
    "        let validatedEmail = validateEmail input.Email\n",
    "        let validatedDateOfBirth = validateDateOfBirth input.DateOfBirth\n",
    "        create\n",
    "        |> Result.map <| validatedName\n",
    "        |> Result.apply <| validatedEmail\n",
    "        |> Result.apply <| validatedDateOfBirth\n",
    "\n",
    "Applicatives.validate { Name = \"Ben\"; Email = \"ben.cross@kroo.com\"; DateOfBirth = \"1970-01-01\"}\n",
    "// Ok { Name = \"Ben\"; Email = \"ben.cross@kroo.com\"; DateOfBirth = DateTime(1970, 1, 1)}\n",
    "Applicatives.validate { Name = \"\"; Email = \"not.ben.cross@kroo.com!\"; DateOfBirth = \"Invalid date time\"}\n",
    "// Error [ NameIsInvalidFailure; EmailIsInvalidFailure; DateOfBirthIsInvalidFailure; IDoNotLikeYouFailure ]\n",
    "        "
   ]
  },
  {
   "cell_type": "markdown",
   "metadata": {},
   "source": [
    "## Adding the Async Effect\n",
    "In our pipeline we didn't just use `Result`, we also used `Async`.  \n",
    "We can define a special `asyncResult` computation expression to deal with this case.  \n",
    "There is a *lot* of code for this in the source for this book.  \n",
    "\n",
    "The important part of how this changes the code we already have is if we have a function that returns a `Result` we have to lift it to an `AsyncResult` in order to use `let!`  \n",
    "```fsharp\n",
    "let validateOrder: ValidateOrder =\n",
    "    fun checkProductCodeExists checkAddressExists unvalidatedOrder -> asyncResult {\n",
    "        let! orderId =\n",
    "            unvalidatedOrder.OrderId\n",
    "            |> OrderId.create\n",
    "            |> Result.mapError ValidationError\n",
    "            |> AsyncResult.ofResult // lift Result to AsyncResult\n",
    "        let! customerInfo =\n",
    "            unvalidatedOrder.CustomerInfo\n",
    "            |> toCustomerInfo\n",
    "            |> AsyncResult.ofResult\n",
    "        let! checkedShippingAddress =    \n",
    "            unvalidatedOrder.ShippingAddress\n",
    "            |> toCheckedAddress checkAddressExists // This returns an AsyncResult so we don't need to lift it.\n",
    "        let! shippingAddress =\n",
    "            unvalidatedOrder.shippingAddress\n",
    "            |> toAddress\n",
    "            |> AsyncResult.ofResult\n",
    "        let! billingAddress = ...\n",
    "        let! lines =\n",
    "            unvalidatedOrder.Lines\n",
    "            |> List.map (toValidatedOrderLine checkProductCodeExists)\n",
    "            |> Result.sequence\n",
    "            |> AsyncResult.ofResult\n",
    "\n",
    "        let validatedOrder: ValidatedOrder = {\n",
    "            OrderId = orderId\n",
    "            CustomerInfo = customerInfo\n",
    "            ShippingAddress = shippingAddress\n",
    "            BillingAddress = billingAddress\n",
    "            Lines = lines\n",
    "        }\n",
    "    }\n",
    "```"
   ]
  }
 ],
 "metadata": {
  "kernelspec": {
   "display_name": ".NET (C#)",
   "language": "C#",
   "name": ".net-csharp"
  },
  "language_info": {
   "name": "csharp"
  },
  "polyglot_notebook": {
   "kernelInfo": {
    "defaultKernelName": "csharp",
    "items": [
     {
      "aliases": [],
      "name": "csharp"
     }
    ]
   }
  }
 },
 "nbformat": 4,
 "nbformat_minor": 2
}
